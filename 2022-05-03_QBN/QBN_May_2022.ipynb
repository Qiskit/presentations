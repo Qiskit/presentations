{
 "cells": [
  {
   "cell_type": "markdown",
   "id": "e5eabd0c",
   "metadata": {
    "ExecuteTime": {
     "end_time": "2022-04-26T13:51:10.069591Z",
     "start_time": "2022-04-26T13:51:00.293816Z"
    }
   },
   "source": [
    "# Qiskit Quantum Programming Features You Probably Don’t Know About\n",
    "**Luciano Bello**  \n",
    "Qiskit DevRel Team Lead  \n",
    "IBM Quantum"
   ]
  },
  {
   "attachments": {},
   "cell_type": "markdown",
   "id": "4a4aa3a7",
   "metadata": {},
   "source": [
    "<div>\n",
    "<img src=\"qiskit_overview.png\" width=\"700\"/>\n",
    "</div>\n",
    "\n",
    "# Qiskit Terra Features You Probably Don’t Know About\n",
    "**Luciano Bello**  \n",
    "Qiskit DevRel Team Lead  \n",
    "IBM Quantum"
   ]
  },
  {
   "cell_type": "markdown",
   "id": "fb423fee",
   "metadata": {
    "ExecuteTime": {
     "end_time": "2022-05-03T11:02:22.210499Z",
     "start_time": "2022-05-03T11:02:22.205516Z"
    }
   },
   "source": [
    "## First things first"
   ]
  },
  {
   "cell_type": "code",
   "execution_count": 1,
   "id": "4fd38458",
   "metadata": {
    "ExecuteTime": {
     "end_time": "2022-05-03T11:21:39.771957Z",
     "start_time": "2022-05-03T11:21:39.149268Z"
    }
   },
   "outputs": [
    {
     "data": {
      "text/plain": [
       "'0.21.0.dev0+ce4f94d'"
      ]
     },
     "execution_count": 1,
     "metadata": {},
     "output_type": "execute_result"
    }
   ],
   "source": [
    "from qiskit import __version__\n",
    "__version__"
   ]
  },
  {
   "cell_type": "code",
   "execution_count": 2,
   "id": "92bf06bf",
   "metadata": {
    "ExecuteTime": {
     "end_time": "2022-05-03T11:21:41.123624Z",
     "start_time": "2022-05-03T11:21:39.774035Z"
    }
   },
   "outputs": [
    {
     "data": {
      "text/plain": [
       "{'qiskit-terra': '0.21.0.dev0+ce4f94d', 'qiskit-aer': '0.10.4', 'qiskit-ignis': '0.7.0', 'qiskit-ibmq-provider': '0.19.1', 'qiskit-aqua': None, 'qiskit': None, 'qiskit-nature': '0.3.2', 'qiskit-finance': None, 'qiskit-optimization': None, 'qiskit-machine-learning': None}"
      ]
     },
     "execution_count": 2,
     "metadata": {},
     "output_type": "execute_result"
    }
   ],
   "source": [
    "from qiskit import __qiskit_version__\n",
    "__qiskit_version__"
   ]
  },
  {
   "cell_type": "markdown",
   "id": "da5c1ee1",
   "metadata": {
    "ExecuteTime": {
     "end_time": "2022-04-26T13:55:31.903211Z",
     "start_time": "2022-04-26T13:55:31.897489Z"
    }
   },
   "source": [
    "## The simplest of the examples"
   ]
  },
  {
   "cell_type": "code",
   "execution_count": 3,
   "id": "e50ea05a",
   "metadata": {
    "ExecuteTime": {
     "end_time": "2022-05-03T11:21:41.133724Z",
     "start_time": "2022-05-03T11:21:41.128699Z"
    }
   },
   "outputs": [],
   "source": [
    "from qiskit import QuantumCircuit\n",
    "\n",
    "circuit = QuantumCircuit(2)\n",
    "circuit.h(0)\n",
    "circuit.cx(0, 1)\n",
    "circuit.measure_all()"
   ]
  },
  {
   "cell_type": "code",
   "execution_count": 4,
   "id": "788f2f29",
   "metadata": {
    "ExecuteTime": {
     "end_time": "2022-05-03T11:21:41.199737Z",
     "start_time": "2022-05-03T11:21:41.139705Z"
    },
    "scrolled": true
   },
   "outputs": [
    {
     "data": {
      "text/html": [
       "<pre style=\"word-wrap: normal;white-space: pre;background: #fff0;line-height: 1.1;font-family: &quot;Courier New&quot;,Courier,monospace\">        ┌───┐      ░ ┌─┐   \n",
       "   q_0: ┤ H ├──■───░─┤M├───\n",
       "        └───┘┌─┴─┐ ░ └╥┘┌─┐\n",
       "   q_1: ─────┤ X ├─░──╫─┤M├\n",
       "             └───┘ ░  ║ └╥┘\n",
       "meas: 2/══════════════╩══╩═\n",
       "                      0  1 </pre>"
      ],
      "text/plain": [
       "        ┌───┐      ░ ┌─┐   \n",
       "   q_0: ┤ H ├──■───░─┤M├───\n",
       "        └───┘┌─┴─┐ ░ └╥┘┌─┐\n",
       "   q_1: ─────┤ X ├─░──╫─┤M├\n",
       "             └───┘ ░  ║ └╥┘\n",
       "meas: 2/══════════════╩══╩═\n",
       "                      0  1 "
      ]
     },
     "execution_count": 4,
     "metadata": {},
     "output_type": "execute_result"
    }
   ],
   "source": [
    "circuit.draw()"
   ]
  },
  {
   "cell_type": "markdown",
   "id": "99cdac0f",
   "metadata": {
    "ExecuteTime": {
     "end_time": "2022-04-26T13:57:34.944297Z",
     "start_time": "2022-04-26T13:57:34.940988Z"
    }
   },
   "source": [
    "## Arbitrary rotations"
   ]
  },
  {
   "cell_type": "code",
   "execution_count": 5,
   "id": "f8a17dc7",
   "metadata": {
    "ExecuteTime": {
     "end_time": "2022-05-03T11:21:41.207089Z",
     "start_time": "2022-05-03T11:21:41.202502Z"
    }
   },
   "outputs": [
    {
     "data": {
      "text/html": [
       "<pre style=\"word-wrap: normal;white-space: pre;background: #fff0;line-height: 1.1;font-family: &quot;Courier New&quot;,Courier,monospace\">   ┌────────────────┐\n",
       "q: ┤ U(π/2,π/2,π/2) ├\n",
       "   └────────────────┘</pre>"
      ],
      "text/plain": [
       "   ┌────────────────┐\n",
       "q: ┤ U(π/2,π/2,π/2) ├\n",
       "   └────────────────┘"
      ]
     },
     "execution_count": 5,
     "metadata": {},
     "output_type": "execute_result"
    }
   ],
   "source": [
    "from numpy import pi \n",
    "circuit = QuantumCircuit(1)\n",
    "circuit.u(pi/2,pi/2,pi/2,0)\n",
    "circuit.draw()"
   ]
  },
  {
   "cell_type": "code",
   "execution_count": 6,
   "id": "81fc4fe1",
   "metadata": {
    "ExecuteTime": {
     "end_time": "2022-05-03T11:21:41.353752Z",
     "start_time": "2022-05-03T11:21:41.208728Z"
    }
   },
   "outputs": [
    {
     "data": {
      "text/latex": [
       "$$\n",
       "\n",
       "\\begin{bmatrix}\n",
       "0.707 & -0.707i  \\\\\n",
       " 0.707i & -0.707  \\\\\n",
       " \\end{bmatrix}\n",
       "$$"
      ],
      "text/plain": [
       "<IPython.core.display.Latex object>"
      ]
     },
     "execution_count": 6,
     "metadata": {},
     "output_type": "execute_result"
    }
   ],
   "source": [
    "from qiskit import Aer\n",
    "from qiskit.visualization import array_to_latex\n",
    "from qiskit import transpile\n",
    "\n",
    "\n",
    "backend = Aer.get_backend('unitary_simulator')\n",
    "job = backend.run(transpile(circuit, backend))\n",
    "array_to_latex(job.result().get_unitary(circuit, decimals=3))"
   ]
  },
  {
   "cell_type": "markdown",
   "id": "2bf702a3",
   "metadata": {
    "ExecuteTime": {
     "end_time": "2022-04-26T14:03:55.899359Z",
     "start_time": "2022-04-26T14:03:55.896564Z"
    }
   },
   "source": [
    "## Any unitary"
   ]
  },
  {
   "cell_type": "code",
   "execution_count": 7,
   "id": "b338bc54",
   "metadata": {
    "ExecuteTime": {
     "end_time": "2022-05-03T11:21:41.363635Z",
     "start_time": "2022-05-03T11:21:41.355990Z"
    },
    "scrolled": true
   },
   "outputs": [
    {
     "data": {
      "text/html": [
       "<pre style=\"word-wrap: normal;white-space: pre;background: #fff0;line-height: 1.1;font-family: &quot;Courier New&quot;,Courier,monospace\">     ┌──────────┐\n",
       "q_0: ┤0         ├\n",
       "     │  Unitary │\n",
       "q_1: ┤1         ├\n",
       "     └──────────┘</pre>"
      ],
      "text/plain": [
       "     ┌──────────┐\n",
       "q_0: ┤0         ├\n",
       "     │  Unitary │\n",
       "q_1: ┤1         ├\n",
       "     └──────────┘"
      ]
     },
     "execution_count": 7,
     "metadata": {},
     "output_type": "execute_result"
    }
   ],
   "source": [
    "matrix = [[0, 0, 0, 1],\n",
    "          [0, 0, 1, 0],\n",
    "          [1, 0, 0, 0],\n",
    "          [0, 1, 0, 0]]\n",
    "          \n",
    "circuit = QuantumCircuit(2)\n",
    "circuit.unitary(matrix, [0, 1])\n",
    "circuit.draw()"
   ]
  },
  {
   "cell_type": "markdown",
   "id": "be36f14a",
   "metadata": {},
   "source": [
    "synthesis!"
   ]
  },
  {
   "cell_type": "code",
   "execution_count": 8,
   "id": "371fc79b",
   "metadata": {
    "ExecuteTime": {
     "end_time": "2022-05-03T11:21:41.383084Z",
     "start_time": "2022-05-03T11:21:41.367271Z"
    }
   },
   "outputs": [
    {
     "data": {
      "text/html": [
       "<pre style=\"word-wrap: normal;white-space: pre;background: #fff0;line-height: 1.1;font-family: &quot;Courier New&quot;,Courier,monospace\">global phase: 1.5695\n",
       "     ┌───────────────────┐     ┌───────────────────┐\n",
       "q_0: ┤ U3(π/2,0.18021,0) ├──■──┤ U3(π/2,-π,2.9614) ├\n",
       "     ├───────────────────┤┌─┴─┐├───────────────────┤\n",
       "q_1: ┤ U3(π/2,0,-1.5695) ├┤ X ├┤ U3(π/2,-1.5695,0) ├\n",
       "     └───────────────────┘└───┘└───────────────────┘</pre>"
      ],
      "text/plain": [
       "global phase: 1.5695\n",
       "     ┌───────────────────┐     ┌───────────────────┐\n",
       "q_0: ┤ U3(π/2,0.18021,0) ├──■──┤ U3(π/2,-π,2.9614) ├\n",
       "     ├───────────────────┤┌─┴─┐├───────────────────┤\n",
       "q_1: ┤ U3(π/2,0,-1.5695) ├┤ X ├┤ U3(π/2,-1.5695,0) ├\n",
       "     └───────────────────┘└───┘└───────────────────┘"
      ]
     },
     "execution_count": 8,
     "metadata": {},
     "output_type": "execute_result"
    }
   ],
   "source": [
    "circuit.decompose().draw()"
   ]
  },
  {
   "cell_type": "markdown",
   "id": "43dd9854",
   "metadata": {},
   "source": [
    "### Classical logic"
   ]
  },
  {
   "cell_type": "code",
   "execution_count": 9,
   "id": "b8e0bba5",
   "metadata": {
    "ExecuteTime": {
     "end_time": "2022-05-03T11:21:41.398010Z",
     "start_time": "2022-05-03T11:21:41.388117Z"
    }
   },
   "outputs": [
    {
     "data": {
      "text/html": [
       "<pre style=\"word-wrap: normal;white-space: pre;background: #fff0;line-height: 1.1;font-family: &quot;Courier New&quot;,Courier,monospace\">     ┌─────────┐\n",
       "q_0: ┤0        ├\n",
       "     │         │\n",
       "q_1: ┤1        ├\n",
       "     │  Oracle │\n",
       "q_2: ┤2        ├\n",
       "     │         │\n",
       "q_3: ┤3        ├\n",
       "     └─────────┘</pre>"
      ],
      "text/plain": [
       "     ┌─────────┐\n",
       "q_0: ┤0        ├\n",
       "     │         │\n",
       "q_1: ┤1        ├\n",
       "     │  Oracle │\n",
       "q_2: ┤2        ├\n",
       "     │         │\n",
       "q_3: ┤3        ├\n",
       "     └─────────┘"
      ]
     },
     "execution_count": 9,
     "metadata": {},
     "output_type": "execute_result"
    }
   ],
   "source": [
    "# Classical logic\n",
    "from qiskit.circuit import classical_function, Int1\n",
    "\n",
    "@classical_function\n",
    "def oracle(x: Int1, y: Int1, z: Int1) -> Int1:\n",
    "    return not x and (y or z)\n",
    "\n",
    "circuit = QuantumCircuit(4)\n",
    "circuit.append(oracle, [0, 1, 2, 3])\n",
    "circuit.draw()"
   ]
  },
  {
   "cell_type": "code",
   "execution_count": 10,
   "id": "0327384b",
   "metadata": {
    "ExecuteTime": {
     "end_time": "2022-05-03T11:21:41.413346Z",
     "start_time": "2022-05-03T11:21:41.400672Z"
    }
   },
   "outputs": [
    {
     "data": {
      "text/html": [
       "<pre style=\"word-wrap: normal;white-space: pre;background: #fff0;line-height: 1.1;font-family: &quot;Courier New&quot;,Courier,monospace\">               \n",
       "q_0: ──o────o──\n",
       "       │    │  \n",
       "q_1: ──■────┼──\n",
       "       │    │  \n",
       "q_2: ──o────■──\n",
       "     ┌─┴─┐┌─┴─┐\n",
       "q_3: ┤ X ├┤ X ├\n",
       "     └───┘└───┘</pre>"
      ],
      "text/plain": [
       "               \n",
       "q_0: ──o────o──\n",
       "       │    │  \n",
       "q_1: ──■────┼──\n",
       "       │    │  \n",
       "q_2: ──o────■──\n",
       "     ┌─┴─┐┌─┴─┐\n",
       "q_3: ┤ X ├┤ X ├\n",
       "     └───┘└───┘"
      ]
     },
     "execution_count": 10,
     "metadata": {},
     "output_type": "execute_result"
    }
   ],
   "source": [
    "circuit.decompose().draw()"
   ]
  },
  {
   "cell_type": "code",
   "execution_count": 11,
   "id": "8ebc0e99",
   "metadata": {
    "ExecuteTime": {
     "end_time": "2022-05-03T11:21:42.421891Z",
     "start_time": "2022-05-03T11:21:41.419805Z"
    },
    "scrolled": true
   },
   "outputs": [
    {
     "data": {
      "image/png": "[encoded data removed]",
      "text/plain": [
       "<Figure size 206.997x264.88 with 1 Axes>"
      ]
     },
     "execution_count": 11,
     "metadata": {},
     "output_type": "execute_result"
    }
   ],
   "source": [
    "init = QuantumCircuit(4)\n",
    "\n",
    "init.initialize('01+-')\n",
    "init.draw('mpl')"
   ]
  },
  {
   "cell_type": "markdown",
   "id": "8a886c35",
   "metadata": {
    "ExecuteTime": {
     "end_time": "2022-04-26T14:21:23.318066Z",
     "start_time": "2022-04-26T14:21:23.315640Z"
    }
   },
   "source": [
    "### Initialize"
   ]
  },
  {
   "cell_type": "code",
   "execution_count": 12,
   "id": "321181ec",
   "metadata": {
    "ExecuteTime": {
     "end_time": "2022-05-03T11:21:42.562182Z",
     "start_time": "2022-05-03T11:21:42.424663Z"
    }
   },
   "outputs": [
    {
     "data": {
      "image/png": "[encoded data removed]",
      "text/plain": [
       "<Figure size 206.997x264.88 with 1 Axes>"
      ]
     },
     "execution_count": 12,
     "metadata": {},
     "output_type": "execute_result"
    }
   ],
   "source": [
    "init = QuantumCircuit(4)\n",
    "\n",
    "init.initialize('0100')\n",
    "init.decompose().decompose().draw('mpl')"
   ]
  },
  {
   "cell_type": "code",
   "execution_count": 13,
   "id": "3480e72b",
   "metadata": {
    "ExecuteTime": {
     "end_time": "2022-05-03T11:21:42.572137Z",
     "start_time": "2022-05-03T11:21:42.563940Z"
    }
   },
   "outputs": [
    {
     "data": {
      "text/html": [
       "<pre style=\"word-wrap: normal;white-space: pre;background: #fff0;line-height: 1.1;font-family: &quot;Courier New&quot;,Courier,monospace\">        ┌──────────────────────┐ ░ ┌─────────┐ ░ ┌─┐         \n",
       "   q_0: ┤0                     ├─░─┤0        ├─░─┤M├─────────\n",
       "        │                      │ ░ │         │ ░ └╥┘┌─┐      \n",
       "   q_1: ┤1                     ├─░─┤1        ├─░──╫─┤M├──────\n",
       "        │  Initialize(0,1,0,0) │ ░ │  Oracle │ ░  ║ └╥┘┌─┐   \n",
       "   q_2: ┤2                     ├─░─┤2        ├─░──╫──╫─┤M├───\n",
       "        │                      │ ░ │         │ ░  ║  ║ └╥┘┌─┐\n",
       "   q_3: ┤3                     ├─░─┤3        ├─░──╫──╫──╫─┤M├\n",
       "        └──────────────────────┘ ░ └─────────┘ ░  ║  ║  ║ └╥┘\n",
       "meas: 4/══════════════════════════════════════════╩══╩══╩══╩═\n",
       "                                                  0  1  2  3 </pre>"
      ],
      "text/plain": [
       "        ┌──────────────────────┐ ░ ┌─────────┐ ░ ┌─┐         \n",
       "   q_0: ┤0                     ├─░─┤0        ├─░─┤M├─────────\n",
       "        │                      │ ░ │         │ ░ └╥┘┌─┐      \n",
       "   q_1: ┤1                     ├─░─┤1        ├─░──╫─┤M├──────\n",
       "        │  Initialize(0,1,0,0) │ ░ │  Oracle │ ░  ║ └╥┘┌─┐   \n",
       "   q_2: ┤2                     ├─░─┤2        ├─░──╫──╫─┤M├───\n",
       "        │                      │ ░ │         │ ░  ║  ║ └╥┘┌─┐\n",
       "   q_3: ┤3                     ├─░─┤3        ├─░──╫──╫──╫─┤M├\n",
       "        └──────────────────────┘ ░ └─────────┘ ░  ║  ║  ║ └╥┘\n",
       "meas: 4/══════════════════════════════════════════╩══╩══╩══╩═\n",
       "                                                  0  1  2  3 "
      ]
     },
     "execution_count": 13,
     "metadata": {},
     "output_type": "execute_result"
    }
   ],
   "source": [
    "init.barrier()\n",
    "new_circuit = init.compose(circuit)\n",
    "new_circuit.measure_all()\n",
    "new_circuit.draw()"
   ]
  },
  {
   "cell_type": "code",
   "execution_count": 14,
   "id": "a6b11e59",
   "metadata": {
    "ExecuteTime": {
     "end_time": "2022-05-03T11:21:42.592115Z",
     "start_time": "2022-05-03T11:21:42.574606Z"
    }
   },
   "outputs": [
    {
     "data": {
      "text/html": [
       "<pre style=\"word-wrap: normal;white-space: pre;background: #fff0;line-height: 1.1;font-family: &quot;Courier New&quot;,Courier,monospace\">                   ░ ┌───┐     ┌───┐┌───┐     ┌───┐ ░ ┌─┐         \n",
       "   q_0: ─|0>───────░─┤ X ├──■──┤ X ├┤ X ├──■──┤ X ├─░─┤M├─────────\n",
       "                   ░ └───┘  │  └───┘└───┘  │  └───┘ ░ └╥┘┌─┐      \n",
       "   q_1: ─|0>───────░────────■──────────────┼────────░──╫─┤M├──────\n",
       "             ┌───┐ ░ ┌───┐  │  ┌───┐       │        ░  ║ └╥┘┌─┐   \n",
       "   q_2: ─|0>─┤ X ├─░─┤ X ├──■──┤ X ├───────■────────░──╫──╫─┤M├───\n",
       "             └───┘ ░ └───┘┌─┴─┐└───┘     ┌─┴─┐      ░  ║  ║ └╥┘┌─┐\n",
       "   q_3: ─|0>───────░──────┤ X ├──────────┤ X ├──────░──╫──╫──╫─┤M├\n",
       "                   ░      └───┘          └───┘      ░  ║  ║  ║ └╥┘\n",
       "meas: 4/═══════════════════════════════════════════════╩══╩══╩══╩═\n",
       "                                                       0  1  2  3 </pre>"
      ],
      "text/plain": [
       "                   ░ ┌───┐     ┌───┐┌───┐     ┌───┐ ░ ┌─┐         \n",
       "   q_0: ─|0>───────░─┤ X ├──■──┤ X ├┤ X ├──■──┤ X ├─░─┤M├─────────\n",
       "                   ░ └───┘  │  └───┘└───┘  │  └───┘ ░ └╥┘┌─┐      \n",
       "   q_1: ─|0>───────░────────■──────────────┼────────░──╫─┤M├──────\n",
       "             ┌───┐ ░ ┌───┐  │  ┌───┐       │        ░  ║ └╥┘┌─┐   \n",
       "   q_2: ─|0>─┤ X ├─░─┤ X ├──■──┤ X ├───────■────────░──╫──╫─┤M├───\n",
       "             └───┘ ░ └───┘┌─┴─┐└───┘     ┌─┴─┐      ░  ║  ║ └╥┘┌─┐\n",
       "   q_3: ─|0>───────░──────┤ X ├──────────┤ X ├──────░──╫──╫──╫─┤M├\n",
       "                   ░      └───┘          └───┘      ░  ║  ║  ║ └╥┘\n",
       "meas: 4/═══════════════════════════════════════════════╩══╩══╩══╩═\n",
       "                                                       0  1  2  3 "
      ]
     },
     "execution_count": 14,
     "metadata": {},
     "output_type": "execute_result"
    }
   ],
   "source": [
    "new_circuit.decompose().decompose().draw()"
   ]
  },
  {
   "cell_type": "code",
   "execution_count": 15,
   "id": "00ee0a61",
   "metadata": {
    "ExecuteTime": {
     "end_time": "2022-05-03T11:21:42.626842Z",
     "start_time": "2022-05-03T11:21:42.595340Z"
    }
   },
   "outputs": [
    {
     "data": {
      "text/plain": [
       "{'1100': 1024}"
      ]
     },
     "execution_count": 15,
     "metadata": {},
     "output_type": "execute_result"
    }
   ],
   "source": [
    "simulator = Aer.get_backend('aer_simulator')\n",
    "circ = transpile(new_circuit.decompose().decompose(), simulator)  # workaround qiskit-terra/issues/7631\n",
    "\n",
    "# Run and get counts\n",
    "result = simulator.run(circ).result()\n",
    "counts = result.get_counts()\n",
    "counts"
   ]
  },
  {
   "cell_type": "code",
   "execution_count": 16,
   "id": "cfe66159",
   "metadata": {
    "ExecuteTime": {
     "end_time": "2022-05-03T11:21:42.633038Z",
     "start_time": "2022-05-03T11:21:42.628344Z"
    }
   },
   "outputs": [
    {
     "data": {
      "text/plain": [
       "[True]"
      ]
     },
     "execution_count": 16,
     "metadata": {},
     "output_type": "execute_result"
    }
   ],
   "source": [
    "oracle.simulate([False, False, True])"
   ]
  },
  {
   "cell_type": "markdown",
   "id": "391345f8",
   "metadata": {},
   "source": [
    "### controlled gates"
   ]
  },
  {
   "cell_type": "code",
   "execution_count": 17,
   "id": "81fbc875",
   "metadata": {
    "ExecuteTime": {
     "end_time": "2022-05-03T11:21:42.639958Z",
     "start_time": "2022-05-03T11:21:42.634551Z"
    }
   },
   "outputs": [
    {
     "data": {
      "text/html": [
       "<pre style=\"word-wrap: normal;white-space: pre;background: #fff0;line-height: 1.1;font-family: &quot;Courier New&quot;,Courier,monospace\">                    \n",
       "q_0: ──■────■────■──\n",
       "     ┌─┴─┐  │  ┌─┴─┐\n",
       "q_1: ┤ X ├──■──┤ H ├\n",
       "     └───┘┌─┴─┐└───┘\n",
       "q_2: ─────┤ X ├─────\n",
       "          └───┘     \n",
       "q_3: ───────────────\n",
       "                    </pre>"
      ],
      "text/plain": [
       "                    \n",
       "q_0: ──■────■────■──\n",
       "     ┌─┴─┐  │  ┌─┴─┐\n",
       "q_1: ┤ X ├──■──┤ H ├\n",
       "     └───┘┌─┴─┐└───┘\n",
       "q_2: ─────┤ X ├─────\n",
       "          └───┘     \n",
       "q_3: ───────────────\n",
       "                    "
      ]
     },
     "execution_count": 17,
     "metadata": {},
     "output_type": "execute_result"
    }
   ],
   "source": [
    "circuit = QuantumCircuit(4)\n",
    "circuit.cx(0, 1)\n",
    "circuit.ccx(0, 1, 2)\n",
    "circuit.ch(0, 1)\n",
    "circuit.draw()"
   ]
  },
  {
   "cell_type": "code",
   "execution_count": 18,
   "id": "c5ebfb2b",
   "metadata": {
    "ExecuteTime": {
     "end_time": "2022-05-03T11:21:42.861789Z",
     "start_time": "2022-05-03T11:21:42.642674Z"
    }
   },
   "outputs": [
    {
     "ename": "AttributeError",
     "evalue": "'QuantumCircuit' object has no attribute 'cch'",
     "output_type": "error",
     "traceback": [
      "\u001b[0;31m---------------------------------------------------------------------------\u001b[0m",
      "\u001b[0;31mAttributeError\u001b[0m                            Traceback (most recent call last)",
      "\u001b[0;32m<ipython-input-18-0800b9cd97f6>\u001b[0m in \u001b[0;36m<module>\u001b[0;34m\u001b[0m\n\u001b[0;32m----> 1\u001b[0;31m \u001b[0mcircuit\u001b[0m\u001b[0;34m.\u001b[0m\u001b[0mcch\u001b[0m\u001b[0;34m(\u001b[0m\u001b[0;36m0\u001b[0m\u001b[0;34m,\u001b[0m \u001b[0;36m1\u001b[0m\u001b[0;34m,\u001b[0m \u001b[0;36m2\u001b[0m\u001b[0;34m)\u001b[0m\u001b[0;34m\u001b[0m\u001b[0;34m\u001b[0m\u001b[0m\n\u001b[0m",
      "\u001b[0;31mAttributeError\u001b[0m: 'QuantumCircuit' object has no attribute 'cch'"
     ]
    }
   ],
   "source": [
    "circuit.cch(0, 1, 2)"
   ]
  },
  {
   "cell_type": "code",
   "execution_count": 19,
   "id": "4fdef776",
   "metadata": {
    "ExecuteTime": {
     "end_time": "2022-05-03T11:21:49.818831Z",
     "start_time": "2022-05-03T11:21:49.810540Z"
    }
   },
   "outputs": [
    {
     "data": {
      "text/html": [
       "<pre style=\"word-wrap: normal;white-space: pre;background: #fff0;line-height: 1.1;font-family: &quot;Courier New&quot;,Courier,monospace\">                    ┌───┐\n",
       "q_0: ──■────■────■──┤ H ├\n",
       "     ┌─┴─┐  │  ┌─┴─┐└───┘\n",
       "q_1: ┤ X ├──■──┤ H ├─────\n",
       "     └───┘┌─┴─┐└───┘     \n",
       "q_2: ─────┤ X ├──────────\n",
       "          └───┘          \n",
       "q_3: ────────────────────\n",
       "                         </pre>"
      ],
      "text/plain": [
       "                    ┌───┐\n",
       "q_0: ──■────■────■──┤ H ├\n",
       "     ┌─┴─┐  │  ┌─┴─┐└───┘\n",
       "q_1: ┤ X ├──■──┤ H ├─────\n",
       "     └───┘┌─┴─┐└───┘     \n",
       "q_2: ─────┤ X ├──────────\n",
       "          └───┘          \n",
       "q_3: ────────────────────\n",
       "                         "
      ]
     },
     "execution_count": 19,
     "metadata": {},
     "output_type": "execute_result"
    }
   ],
   "source": [
    "from qiskit.circuit.library import HGate\n",
    "circuit.append(HGate(), [0])\n",
    "circuit.draw()"
   ]
  },
  {
   "cell_type": "code",
   "execution_count": 20,
   "id": "44f75e64",
   "metadata": {
    "ExecuteTime": {
     "end_time": "2022-05-03T11:21:50.707926Z",
     "start_time": "2022-05-03T11:21:50.688683Z"
    }
   },
   "outputs": [
    {
     "data": {
      "text/html": [
       "<pre style=\"word-wrap: normal;white-space: pre;background: #fff0;line-height: 1.1;font-family: &quot;Courier New&quot;,Courier,monospace\">                    ┌───┐     \n",
       "q_0: ──■────■────■──┤ H ├──■──\n",
       "     ┌─┴─┐  │  ┌─┴─┐└───┘  │  \n",
       "q_1: ┤ X ├──■──┤ H ├───────■──\n",
       "     └───┘┌─┴─┐└───┘     ┌─┴─┐\n",
       "q_2: ─────┤ X ├──────────┤ H ├\n",
       "          └───┘          └───┘\n",
       "q_3: ─────────────────────────\n",
       "                              </pre>"
      ],
      "text/plain": [
       "                    ┌───┐     \n",
       "q_0: ──■────■────■──┤ H ├──■──\n",
       "     ┌─┴─┐  │  ┌─┴─┐└───┘  │  \n",
       "q_1: ┤ X ├──■──┤ H ├───────■──\n",
       "     └───┘┌─┴─┐└───┘     ┌─┴─┐\n",
       "q_2: ─────┤ X ├──────────┤ H ├\n",
       "          └───┘          └───┘\n",
       "q_3: ─────────────────────────\n",
       "                              "
      ]
     },
     "execution_count": 20,
     "metadata": {},
     "output_type": "execute_result"
    }
   ],
   "source": [
    "circuit.append(HGate().control(2), [0, 1, 2])\n",
    "circuit.draw()"
   ]
  },
  {
   "cell_type": "code",
   "execution_count": 21,
   "id": "26f68bea",
   "metadata": {
    "ExecuteTime": {
     "end_time": "2022-05-03T11:21:51.138277Z",
     "start_time": "2022-05-03T11:21:51.123931Z"
    }
   },
   "outputs": [
    {
     "data": {
      "text/html": [
       "<pre style=\"word-wrap: normal;white-space: pre;background: #fff0;line-height: 1.1;font-family: &quot;Courier New&quot;,Courier,monospace\">                    ┌───┐          \n",
       "q_0: ──■────■────■──┤ H ├──■────o──\n",
       "     ┌─┴─┐  │  ┌─┴─┐└───┘  │    │  \n",
       "q_1: ┤ X ├──■──┤ H ├───────■────■──\n",
       "     └───┘┌─┴─┐└───┘     ┌─┴─┐┌─┴─┐\n",
       "q_2: ─────┤ X ├──────────┤ H ├┤ H ├\n",
       "          └───┘          └───┘└───┘\n",
       "q_3: ──────────────────────────────\n",
       "                                   </pre>"
      ],
      "text/plain": [
       "                    ┌───┐          \n",
       "q_0: ──■────■────■──┤ H ├──■────o──\n",
       "     ┌─┴─┐  │  ┌─┴─┐└───┘  │    │  \n",
       "q_1: ┤ X ├──■──┤ H ├───────■────■──\n",
       "     └───┘┌─┴─┐└───┘     ┌─┴─┐┌─┴─┐\n",
       "q_2: ─────┤ X ├──────────┤ H ├┤ H ├\n",
       "          └───┘          └───┘└───┘\n",
       "q_3: ──────────────────────────────\n",
       "                                   "
      ]
     },
     "execution_count": 21,
     "metadata": {},
     "output_type": "execute_result"
    }
   ],
   "source": [
    "circuit.append(HGate().control(2, ctrl_state=\"10\"), [0, 1, 2])\n",
    "circuit.draw()"
   ]
  },
  {
   "cell_type": "code",
   "execution_count": 22,
   "id": "dbf2db6b",
   "metadata": {
    "ExecuteTime": {
     "end_time": "2022-05-03T11:21:51.526433Z",
     "start_time": "2022-05-03T11:21:51.501074Z"
    },
    "scrolled": true
   },
   "outputs": [
    {
     "data": {
      "text/html": [
       "<pre style=\"word-wrap: normal;white-space: pre;background: #fff0;line-height: 1.1;font-family: &quot;Courier New&quot;,Courier,monospace\">                    ┌───┐               \n",
       "q_0: ──■────■────■──┤ H ├──■────o────o──\n",
       "     ┌─┴─┐  │  ┌─┴─┐└───┘  │    │    │  \n",
       "q_1: ┤ X ├──■──┤ H ├───────■────■────o──\n",
       "     └───┘┌─┴─┐└───┘     ┌─┴─┐┌─┴─┐┌─┴─┐\n",
       "q_2: ─────┤ X ├──────────┤ H ├┤ H ├┤ H ├\n",
       "          └───┘          └───┘└───┘└─┬─┘\n",
       "q_3: ────────────────────────────────■──\n",
       "                                        </pre>"
      ],
      "text/plain": [
       "                    ┌───┐               \n",
       "q_0: ──■────■────■──┤ H ├──■────o────o──\n",
       "     ┌─┴─┐  │  ┌─┴─┐└───┘  │    │    │  \n",
       "q_1: ┤ X ├──■──┤ H ├───────■────■────o──\n",
       "     └───┘┌─┴─┐└───┘     ┌─┴─┐┌─┴─┐┌─┴─┐\n",
       "q_2: ─────┤ X ├──────────┤ H ├┤ H ├┤ H ├\n",
       "          └───┘          └───┘└───┘└─┬─┘\n",
       "q_3: ────────────────────────────────■──\n",
       "                                        "
      ]
     },
     "execution_count": 22,
     "metadata": {},
     "output_type": "execute_result"
    }
   ],
   "source": [
    "circuit.append(HGate().control(3, ctrl_state=\"010\"), [0, 3, 1, 2])\n",
    "circuit.draw()"
   ]
  },
  {
   "cell_type": "markdown",
   "id": "a69285d5",
   "metadata": {},
   "source": [
    "### other gate modifiers"
   ]
  },
  {
   "cell_type": "code",
   "execution_count": 23,
   "id": "f9ed988c",
   "metadata": {
    "ExecuteTime": {
     "end_time": "2022-05-03T11:21:52.277984Z",
     "start_time": "2022-05-03T11:21:52.253658Z"
    }
   },
   "outputs": [
    {
     "data": {
      "text/latex": [
       "$$\n",
       "\n",
       "\\begin{bmatrix}\n",
       "0.85355 + 0.14645i & \\tfrac{1}{\\sqrt{8}}(1 - i)  \\\\\n",
       " \\tfrac{1}{\\sqrt{8}}(1 - i) & 0.14645 + 0.85355i  \\\\\n",
       " \\end{bmatrix}\n",
       "$$"
      ],
      "text/plain": [
       "<IPython.core.display.Latex object>"
      ]
     },
     "execution_count": 23,
     "metadata": {},
     "output_type": "execute_result"
    }
   ],
   "source": [
    "# power and to_matrix\n",
    "sqrt_h = HGate().power(1/2)  # √H gate\n",
    "array_to_latex(sqrt_h.to_matrix())"
   ]
  },
  {
   "cell_type": "code",
   "execution_count": 24,
   "id": "223bc53c",
   "metadata": {
    "ExecuteTime": {
     "end_time": "2022-05-03T11:21:52.610999Z",
     "start_time": "2022-05-03T11:21:52.597994Z"
    }
   },
   "outputs": [
    {
     "data": {
      "text/html": [
       "<pre style=\"word-wrap: normal;white-space: pre;background: #fff0;line-height: 1.1;font-family: &quot;Courier New&quot;,Courier,monospace\">                    ┌───┐                        \n",
       "q_0: ──■────■────■──┤ H ├──■────o────o───────────\n",
       "     ┌─┴─┐  │  ┌─┴─┐└───┘  │    │    │  ┌───────┐\n",
       "q_1: ┤ X ├──■──┤ H ├───────■────■────o──┤ h^0.5 ├\n",
       "     └───┘┌─┴─┐└───┘     ┌─┴─┐┌─┴─┐┌─┴─┐└───────┘\n",
       "q_2: ─────┤ X ├──────────┤ H ├┤ H ├┤ H ├─────────\n",
       "          └───┘          └───┘└───┘└─┬─┘         \n",
       "q_3: ────────────────────────────────■───────────\n",
       "                                                 </pre>"
      ],
      "text/plain": [
       "                    ┌───┐                        \n",
       "q_0: ──■────■────■──┤ H ├──■────o────o───────────\n",
       "     ┌─┴─┐  │  ┌─┴─┐└───┘  │    │    │  ┌───────┐\n",
       "q_1: ┤ X ├──■──┤ H ├───────■────■────o──┤ h^0.5 ├\n",
       "     └───┘┌─┴─┐└───┘     ┌─┴─┐┌─┴─┐┌─┴─┐└───────┘\n",
       "q_2: ─────┤ X ├──────────┤ H ├┤ H ├┤ H ├─────────\n",
       "          └───┘          └───┘└───┘└─┬─┘         \n",
       "q_3: ────────────────────────────────■───────────\n",
       "                                                 "
      ]
     },
     "execution_count": 24,
     "metadata": {},
     "output_type": "execute_result"
    }
   ],
   "source": [
    "circuit.append(sqrt_h, [1])\n",
    "circuit.draw()"
   ]
  },
  {
   "cell_type": "code",
   "execution_count": 25,
   "id": "e550606d",
   "metadata": {
    "ExecuteTime": {
     "end_time": "2022-05-03T11:21:52.964442Z",
     "start_time": "2022-05-03T11:21:52.951973Z"
    }
   },
   "outputs": [
    {
     "data": {
      "text/html": [
       "<pre style=\"word-wrap: normal;white-space: pre;background: #fff0;line-height: 1.1;font-family: &quot;Courier New&quot;,Courier,monospace\">                    ┌───┐                                    \n",
       "q_0: ──■────■────■──┤ H ├──■────o────o───────────────────────\n",
       "     ┌─┴─┐  │  ┌─┴─┐└───┘  │    │    │  ┌───────┐┌──────────┐\n",
       "q_1: ┤ X ├──■──┤ H ├───────■────■────o──┤ h^0.5 ├┤ Rz(1π/4) ├\n",
       "     └───┘┌─┴─┐└───┘     ┌─┴─┐┌─┴─┐┌─┴─┐└───────┘└──────────┘\n",
       "q_2: ─────┤ X ├──────────┤ H ├┤ H ├┤ H ├─────────────────────\n",
       "          └───┘          └───┘└───┘└─┬─┘                     \n",
       "q_3: ────────────────────────────────■───────────────────────\n",
       "                                                             </pre>"
      ],
      "text/plain": [
       "                    ┌───┐                                    \n",
       "q_0: ──■────■────■──┤ H ├──■────o────o───────────────────────\n",
       "     ┌─┴─┐  │  ┌─┴─┐└───┘  │    │    │  ┌───────┐┌──────────┐\n",
       "q_1: ┤ X ├──■──┤ H ├───────■────■────o──┤ h^0.5 ├┤ Rz(1π/4) ├\n",
       "     └───┘┌─┴─┐└───┘     ┌─┴─┐┌─┴─┐┌─┴─┐└───────┘└──────────┘\n",
       "q_2: ─────┤ X ├──────────┤ H ├┤ H ├┤ H ├─────────────────────\n",
       "          └───┘          └───┘└───┘└─┬─┘                     \n",
       "q_3: ────────────────────────────────■───────────────────────\n",
       "                                                             "
      ]
     },
     "execution_count": 25,
     "metadata": {},
     "output_type": "execute_result"
    }
   ],
   "source": [
    "from qiskit.circuit.library import RZGate\n",
    "circuit.append(RZGate(3.14159/4), [1])\n",
    "circuit.draw()"
   ]
  },
  {
   "cell_type": "code",
   "execution_count": 26,
   "id": "aff8b922",
   "metadata": {
    "ExecuteTime": {
     "end_time": "2022-05-03T11:21:53.285574Z",
     "start_time": "2022-05-03T11:21:53.270166Z"
    }
   },
   "outputs": [
    {
     "data": {
      "text/html": [
       "<pre style=\"word-wrap: normal;white-space: pre;background: #fff0;line-height: 1.1;font-family: &quot;Courier New&quot;,Courier,monospace\">                    ┌───┐                                                 \n",
       "q_0: ──■────■────■──┤ H ├──■────o────o────────────────────────────────────\n",
       "     ┌─┴─┐  │  ┌─┴─┐└───┘  │    │    │  ┌───────┐┌──────────┐┌───────────┐\n",
       "q_1: ┤ X ├──■──┤ H ├───────■────■────o──┤ h^0.5 ├┤ Rz(1π/4) ├┤ Rz(-1π/4) ├\n",
       "     └───┘┌─┴─┐└───┘     ┌─┴─┐┌─┴─┐┌─┴─┐└───────┘└──────────┘└───────────┘\n",
       "q_2: ─────┤ X ├──────────┤ H ├┤ H ├┤ H ├──────────────────────────────────\n",
       "          └───┘          └───┘└───┘└─┬─┘                                  \n",
       "q_3: ────────────────────────────────■────────────────────────────────────\n",
       "                                                                          </pre>"
      ],
      "text/plain": [
       "                    ┌───┐                                                 \n",
       "q_0: ──■────■────■──┤ H ├──■────o────o────────────────────────────────────\n",
       "     ┌─┴─┐  │  ┌─┴─┐└───┘  │    │    │  ┌───────┐┌──────────┐┌───────────┐\n",
       "q_1: ┤ X ├──■──┤ H ├───────■────■────o──┤ h^0.5 ├┤ Rz(1π/4) ├┤ Rz(-1π/4) ├\n",
       "     └───┘┌─┴─┐└───┘     ┌─┴─┐┌─┴─┐┌─┴─┐└───────┘└──────────┘└───────────┘\n",
       "q_2: ─────┤ X ├──────────┤ H ├┤ H ├┤ H ├──────────────────────────────────\n",
       "          └───┘          └───┘└───┘└─┬─┘                                  \n",
       "q_3: ────────────────────────────────■────────────────────────────────────\n",
       "                                                                          "
      ]
     },
     "execution_count": 26,
     "metadata": {},
     "output_type": "execute_result"
    }
   ],
   "source": [
    "# inverse\n",
    "from qiskit.circuit.library import RZGate\n",
    "rz_dag = RZGate(3.14159/4).inverse()\n",
    "circuit.append(rz_dag, [1])\n",
    "circuit.draw()"
   ]
  },
  {
   "cell_type": "markdown",
   "id": "533fc49c",
   "metadata": {},
   "source": [
    "## callable passes"
   ]
  },
  {
   "cell_type": "code",
   "execution_count": 27,
   "id": "3b594d24",
   "metadata": {
    "ExecuteTime": {
     "end_time": "2022-05-03T11:21:54.005773Z",
     "start_time": "2022-05-03T11:21:54.000126Z"
    }
   },
   "outputs": [
    {
     "data": {
      "text/html": [
       "<pre style=\"word-wrap: normal;white-space: pre;background: #fff0;line-height: 1.1;font-family: &quot;Courier New&quot;,Courier,monospace\">   ┌───┐\n",
       "q: ┤ H ├\n",
       "   └───┘</pre>"
      ],
      "text/plain": [
       "   ┌───┐\n",
       "q: ┤ H ├\n",
       "   └───┘"
      ]
     },
     "execution_count": 27,
     "metadata": {},
     "output_type": "execute_result"
    }
   ],
   "source": [
    "circuit = QuantumCircuit(1)\n",
    "circuit.h(0)\n",
    "circuit.draw()"
   ]
  },
  {
   "cell_type": "code",
   "execution_count": 28,
   "id": "c3de4168",
   "metadata": {
    "ExecuteTime": {
     "end_time": "2022-05-03T11:21:55.026129Z",
     "start_time": "2022-05-03T11:21:54.519655Z"
    }
   },
   "outputs": [
    {
     "data": {
      "text/html": [
       "<pre style=\"word-wrap: normal;white-space: pre;background: #fff0;line-height: 1.1;font-family: &quot;Courier New&quot;,Courier,monospace\">global phase: π/2\n",
       "   ┌─────────┐┌─────────┐┌─────────┐\n",
       "q: ┤ Rz(π/2) ├┤ Rx(π/2) ├┤ Rz(π/2) ├\n",
       "   └─────────┘└─────────┘└─────────┘</pre>"
      ],
      "text/plain": [
       "global phase: π/2\n",
       "   ┌─────────┐┌─────────┐┌─────────┐\n",
       "q: ┤ Rz(π/2) ├┤ Rx(π/2) ├┤ Rz(π/2) ├\n",
       "   └─────────┘└─────────┘└─────────┘"
      ]
     },
     "execution_count": 28,
     "metadata": {},
     "output_type": "execute_result"
    }
   ],
   "source": [
    "from qiskit.transpiler.passes import BasisTranslator\n",
    "from qiskit.circuit.equivalence_library import SessionEquivalenceLibrary\n",
    "\n",
    "result = BasisTranslator(SessionEquivalenceLibrary, ['rx', 'rz'])(circuit)\n",
    "result.draw()"
   ]
  },
  {
   "cell_type": "markdown",
   "id": "ba975ca8",
   "metadata": {},
   "source": [
    "## More resources!\n",
    " * This notebook: https://ibm.biz/QBN_20220503\n",
    " * YouTube 1-minute Qiskit: https://www.youtube.com/watch?v=NCsbWMnuCqc&list=PLOFEBzvs-VvpOCmJ9BonUhf7NYB4d1p0e\n",
    " * Demoday: https://github.com/qiskit-community/feedback/wiki/Qiskit-DemoDays\n",
    " * Questions? https://quantumcomputing.stackexchange.com/questions/tagged/qiskit\n",
    " * Issues (dont forget to add the version!)? Contributions? https://github.com/Qiskit/qiskit-terra/"
   ]
  }
 ],
 "metadata": {
  "kernelspec": {
   "display_name": "Python 3",
   "language": "python",
   "name": "python3"
  },
  "language_info": {
   "codemirror_mode": {
    "name": "ipython",
    "version": 3
   },
   "file_extension": ".py",
   "mimetype": "text/x-python",
   "name": "python",
   "nbconvert_exporter": "python",
   "pygments_lexer": "ipython3",
   "version": "3.9.12"
  }
 },
 "nbformat": 4,
 "nbformat_minor": 5
}
