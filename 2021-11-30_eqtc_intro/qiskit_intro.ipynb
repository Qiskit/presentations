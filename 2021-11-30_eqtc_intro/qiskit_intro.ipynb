{
 "cells": [
  {
   "cell_type": "markdown",
   "metadata": {},
   "source": [
    "\n",
    "# Qiskit: Open-Source Quantum Development, an introduction\n",
    "\n",
    "---\n",
    "\n",
    "\n",
    "\n",
    "\n",
    "\n",
    "\n"
   ]
  },
  {
   "cell_type": "markdown",
   "metadata": {},
   "source": [
    "### November 30 2021, Luciano Bello & Carmen Recio"
   ]
  },
  {
   "cell_type": "markdown",
   "metadata": {},
   "source": [
    "\n",
    "\n",
    "### Workshop contents\n",
    "\n",
    "1.   Intro IBM Quantum Lab and Qiskit modules - Carmen\n",
    "2.   Building Circuits with multiple components - Carmen\n",
    "3.   Compiling Circuits - Luciano\n",
    "4.   Running Circuits and Applications - Luciano & Carmen \n",
    "\n"
   ]
  },
  {
   "cell_type": "markdown",
   "metadata": {},
   "source": [
    "## 1. Intro IBM Quantum Lab and Qiskit modules"
   ]
  },
  {
   "cell_type": "code",
   "execution_count": null,
   "metadata": {},
   "outputs": [],
   "source": [
    "from qiskit import IBMQ\n",
    "# Loading your IBM Quantum account(s)\n",
    "provider = IBMQ.load_account()"
   ]
  },
  {
   "cell_type": "code",
   "execution_count": null,
   "metadata": {},
   "outputs": [],
   "source": [
    "IBMQ.providers()    # List all available providers"
   ]
  },
  {
   "cell_type": "markdown",
   "metadata": {},
   "source": [
    "### Your first quantum circuit\n",
    "\n",
    "Let's begin exploring the different tools in Qiskit Terra. For that, we will now create a Quantum Circuit.\n",
    "\n"
   ]
  },
  {
   "cell_type": "code",
   "execution_count": null,
   "metadata": {},
   "outputs": [],
   "source": [
    "from qiskit import QuantumCircuit\n",
    "\n",
    "circuit = QuantumCircuit(2)\n",
    "circuit.h(0)\n",
    "circuit.cx(0, 1)\n",
    "circuit.measure_all()"
   ]
  },
  {
   "cell_type": "markdown",
   "metadata": {},
   "source": [
    "Do you recognize this circuit? It creates 1 of the 4 Bell states, which are maximally entangled and build an orthonormal basis."
   ]
  },
  {
   "cell_type": "code",
   "execution_count": null,
   "metadata": {},
   "outputs": [],
   "source": [
    "circuit.draw(initial_state=True)"
   ]
  },
  {
   "cell_type": "markdown",
   "metadata": {},
   "source": [
    "Now let's run the circuit in the Aer simulator and plot the results in a histogram.\n"
   ]
  },
  {
   "cell_type": "code",
   "execution_count": null,
   "metadata": {},
   "outputs": [],
   "source": [
    "from qiskit import Aer\n",
    "\n",
    "sim = Aer.get_backend('aer_simulator')  # this is the simulator we'll use\n",
    "result = sim.run(circuit).result()  # we run the experiment and get the result from that experiment\n",
    "# from the results, we get a dictionary containing the number of times (counts)\n",
    "# each result appeared\n",
    "counts = result.get_counts()\n",
    "counts"
   ]
  },
  {
   "cell_type": "code",
   "execution_count": null,
   "metadata": {},
   "outputs": [],
   "source": [
    "from qiskit.visualization import plot_histogram\n",
    "\n",
    "# and display it on a histogram\n",
    "plot_histogram(counts)"
   ]
  },
  {
   "cell_type": "markdown",
   "metadata": {},
   "source": [
    "Now let's explore in more detail the different components we have used."
   ]
  },
  {
   "cell_type": "markdown",
   "metadata": {},
   "source": [
    "#### Single-Qubit Gates"
   ]
  },
  {
   "cell_type": "code",
   "execution_count": null,
   "metadata": {},
   "outputs": [],
   "source": [
    "backend = Aer.get_backend('unitary_simulator')"
   ]
  },
  {
   "cell_type": "code",
   "execution_count": null,
   "metadata": {},
   "outputs": [],
   "source": [
    "from numpy import pi \n",
    "circuit = QuantumCircuit(1)\n",
    "circuit.u(pi/2,pi/2,pi/2,0)\n",
    "circuit.draw()"
   ]
  },
  {
   "cell_type": "code",
   "execution_count": null,
   "metadata": {},
   "outputs": [],
   "source": [
    "from qiskit.visualization import array_to_latex\n",
    "from qiskit import transpile\n",
    "job = backend.run(transpile(circuit, backend))\n",
    "array_to_latex(job.result().get_unitary(circuit, decimals=3))"
   ]
  },
  {
   "cell_type": "markdown",
   "metadata": {},
   "source": [
    "You may try other gates: x, y, z, id, h, s, sdg, t, tdg, rx(pi/2, 0), ry(pi/2, 0), rz(pi/2, 0)"
   ]
  },
  {
   "cell_type": "markdown",
   "metadata": {},
   "source": [
    "#### Multi-Qubit Gates"
   ]
  },
  {
   "cell_type": "markdown",
   "metadata": {},
   "source": [
    "How does Qiskit order basis vectors?"
   ]
  },
  {
   "cell_type": "markdown",
   "metadata": {},
   "source": [
    "Within the physics community, the qubits of a multi-qubit systems are typically ordered with the first qubit on the left-most side of the tensor product and the last qubit on the right-most side. For instance, if the first qubit is in state |0⟩ and second is in state |1⟩, their joint state would be|01⟩. Qiskit uses a slightly different ordering of the qubits, in which the qubits are represented from the most significant bit (MSB) on the left to the least significant bit (LSB) on the right (big-endian). This is similar to bitstring representation on classical computers, and enables easy conversion from bitstrings to integers after measurements are performed. For the example just given, the joint state would be represented as ∣10⟩. \n",
    "\n",
    "Importantly, this change in the representation of multi-qubit states affects the way multi-qubit gates are represented in Qiskit, as discussed here https://qiskit.org/documentation/tutorials/circuits/3_summary_of_quantum_operations.html#Two-qubit-gates\n",
    "\n",
    "The representation used in Qiskit enumerates the basis vectors in increasing order of the integers they represent. For instance, the basis vectors for a 2-qubit system would be ordered as |00⟩, |01⟩, |10⟩, and |11⟩. Thinking of the basis vectors as bit strings, they encode the integers 0,1,2 and 3, respectively."
   ]
  },
  {
   "cell_type": "code",
   "execution_count": null,
   "metadata": {},
   "outputs": [],
   "source": [
    "circuit = QuantumCircuit(2)\n",
    "circuit.cx(0,1)\n",
    "circuit.draw()"
   ]
  },
  {
   "cell_type": "code",
   "execution_count": null,
   "metadata": {},
   "outputs": [],
   "source": [
    "job = backend.run(transpile(circuit, backend))\n",
    "array_to_latex(job.result().get_unitary(circuit, decimals=3))"
   ]
  },
  {
   "cell_type": "markdown",
   "metadata": {},
   "source": [
    "You may try other gates such as: cy, cz, ch, crz, swap\n",
    "\n",
    "And check all gates here: https://qiskit.org/documentation/stubs/qiskit.circuit.QuantumCircuit.html#qiskit.circuit.QuantumCircuit"
   ]
  },
  {
   "cell_type": "markdown",
   "metadata": {},
   "source": [
    "### Qiskit Visualization tools"
   ]
  },
  {
   "cell_type": "markdown",
   "metadata": {},
   "source": [
    "We have already seen how to plot the results in a histogram. There are other visualization tools that are useful when working with quantum computers, let's explore them.\n",
    "\n",
    "#### Plot a state\n",
    "\n",
    "In many situations you want to see the state of a quantum computer. This could be for debugging. Here we assume you have this state (either from simulation or state tomography) and the goal is to visualize the quantum state. This requires exponential resources, so we advise to only view the state of small quantum systems. There are several functions for generating different types of visualization of a quantum state\n",
    "\n",
    "\n",
    "\n",
    "```\n",
    "plot_state_city(quantum_state)\n",
    "plot_state_qsphere(quantum_state)\n",
    "plot_state_paulivec(quantum_state)\n",
    "plot_state_hinton(quantum_state)\n",
    "plot_bloch_multivector(quantum_state)\n",
    "```\n",
    "\n"
   ]
  },
  {
   "cell_type": "markdown",
   "metadata": {},
   "source": [
    "A quantum state is either a state matrix $ \\rho $ (Hermitian matrix) or statevector $ | \\psi ⟩ $ (complex vector). The state matrix is related to the statevector by \n",
    "$$ \\rho = | \\psi ⟩⟨ \\psi | $$"
   ]
  },
  {
   "cell_type": "markdown",
   "metadata": {},
   "source": [
    "The visualizations generated by the functions are:\n",
    "\n",
    "`'plot_state_city'`: The standard view for quantum states where the real and imaginary (imag) parts of the state matrix are plotted like a city.\n",
    "\n",
    "`'plot_state_qsphere'`: The Qiskit unique view of a quantum state where the amplitude and phase of the state vector are plotted in a spherical ball. \n",
    "The amplitude is the thickness of the arrow and the phase is the color. For mixed states it will show different 'qsphere' for each component.\n",
    "\n",
    "`'plot_state_paulivec'`: The representation of the state matrix using Pauli operators as the basis. \n",
    "\n",
    "`'plot_state_hinton'`: Same as 'city' but where the size of the element represents the value of the matrix element.\n",
    "\n",
    "`'plot_bloch_multivector'`: The projection of the quantum state onto the single qubit space and plotting on a bloch sphere."
   ]
  },
  {
   "cell_type": "code",
   "execution_count": null,
   "metadata": {},
   "outputs": [],
   "source": [
    "from qiskit.visualization import plot_state_city, plot_bloch_multivector\n",
    "from qiskit.visualization import plot_state_paulivec, plot_state_hinton\n",
    "from qiskit.visualization import plot_state_qsphere"
   ]
  },
  {
   "cell_type": "code",
   "execution_count": null,
   "metadata": {},
   "outputs": [],
   "source": [
    "circuit = QuantumCircuit(2, 2)\n",
    "circuit.h(0)\n",
    "circuit.cx(0, 1)"
   ]
  },
  {
   "cell_type": "code",
   "execution_count": null,
   "metadata": {},
   "outputs": [],
   "source": [
    "backend = Aer.get_backend('statevector_simulator') # the device to run on\n",
    "result = backend.run(circuit).result()\n",
    "psi  = result.get_statevector(circuit)"
   ]
  },
  {
   "cell_type": "code",
   "execution_count": null,
   "metadata": {},
   "outputs": [],
   "source": [
    "plot_state_city(psi)"
   ]
  },
  {
   "cell_type": "code",
   "execution_count": null,
   "metadata": {},
   "outputs": [],
   "source": [
    "plot_state_hinton(psi)"
   ]
  },
  {
   "cell_type": "code",
   "execution_count": null,
   "metadata": {},
   "outputs": [],
   "source": [
    "#plot_state_qsphere(psi)"
   ]
  },
  {
   "cell_type": "code",
   "execution_count": null,
   "metadata": {},
   "outputs": [],
   "source": [
    "plot_state_paulivec(psi)"
   ]
  },
  {
   "cell_type": "code",
   "execution_count": null,
   "metadata": {},
   "outputs": [],
   "source": [
    "#plot_bloch_multivector(psi)"
   ]
  },
  {
   "cell_type": "markdown",
   "metadata": {},
   "source": [
    "#### Plot Bloch Vector\n",
    "\n",
    "A standard way of plotting a quantum system is using the Bloch vector. This only works for a single qubit and takes as input the Bloch vector."
   ]
  },
  {
   "cell_type": "code",
   "execution_count": null,
   "metadata": {},
   "outputs": [],
   "source": [
    "from qiskit.visualization import plot_bloch_vector"
   ]
  },
  {
   "cell_type": "code",
   "execution_count": null,
   "metadata": {},
   "outputs": [],
   "source": [
    "#plot_bloch_vector([0,1,0])"
   ]
  },
  {
   "cell_type": "markdown",
   "metadata": {},
   "source": [
    "#### Circuit Visualization"
   ]
  },
  {
   "cell_type": "markdown",
   "metadata": {},
   "source": [
    "When building a quantum circuit, it often helps to draw the circuit. This is supported natively by a ``QuantumCircuit`` object. You can either call ``print()`` on the circuit, or call the ``draw()`` method on the object."
   ]
  },
  {
   "cell_type": "code",
   "execution_count": null,
   "metadata": {},
   "outputs": [],
   "source": [
    "from qiskit import QuantumCircuit, ClassicalRegister, QuantumRegister"
   ]
  },
  {
   "cell_type": "code",
   "execution_count": null,
   "metadata": {},
   "outputs": [],
   "source": [
    "# Build a quantum circuit\n",
    "circuit = QuantumCircuit(3, 3)\n",
    "\n",
    "circuit.x(1)\n",
    "circuit.h(range(3))\n",
    "circuit.cx(0, 1)\n",
    "circuit.measure(range(3), range(3));"
   ]
  },
  {
   "cell_type": "code",
   "execution_count": null,
   "metadata": {},
   "outputs": [],
   "source": [
    "print(circuit)"
   ]
  },
  {
   "cell_type": "code",
   "execution_count": null,
   "metadata": {},
   "outputs": [],
   "source": [
    "circuit.draw()"
   ]
  },
  {
   "cell_type": "markdown",
   "metadata": {},
   "source": [
    "There are different drawing formats. The parameter output (str) selects the output method to use for drawing the circuit. Valid choices are ``text, mpl, latex, latex_source``. See [qiskit.circuit.QuantumCircuit.draw](https://qiskit.org/documentation/stubs/qiskit.circuit.QuantumCircuit.draw.html?highlight=draw)"
   ]
  },
  {
   "cell_type": "code",
   "execution_count": null,
   "metadata": {},
   "outputs": [],
   "source": [
    "circuit.draw(initial_state=True, output='mpl')"
   ]
  },
  {
   "cell_type": "markdown",
   "metadata": {},
   "source": [
    "Depending on the output, there are also options to customize the circuit diagram rendered by the circuit."
   ]
  },
  {
   "cell_type": "markdown",
   "metadata": {},
   "source": [
    "##### Disable Plot Barriers and Reversing Bit Order"
   ]
  },
  {
   "cell_type": "markdown",
   "metadata": {},
   "source": [
    "The first two options are shared among all three backends. They allow you to configure both the bit orders and whether or not you draw barriers. These can be set by the ``reverse_bits`` `kwarg and ``plot_barriers`` kwarg, respectively. The examples below will work with any output backend; mpl is used here for brevity."
   ]
  },
  {
   "cell_type": "code",
   "execution_count": null,
   "metadata": {},
   "outputs": [],
   "source": [
    "# Draw a new circuit with barriers and more registers\n",
    "\n",
    "q_a = QuantumRegister(3, name='qa')\n",
    "q_b = QuantumRegister(5, name='qb')\n",
    "c_a = ClassicalRegister(3)\n",
    "c_b = ClassicalRegister(5)\n",
    "\n",
    "circuit = QuantumCircuit(q_a, q_b, c_a, c_b)\n",
    "\n",
    "circuit.x(q_a[1])\n",
    "circuit.x(q_b[1])\n",
    "circuit.x(q_b[2])\n",
    "circuit.x(q_b[4])\n",
    "circuit.barrier()\n",
    "circuit.h(q_a)\n",
    "circuit.barrier(q_a)\n",
    "circuit.h(q_b)\n",
    "circuit.cswap(q_b[0], q_b[1], q_b[2])\n",
    "circuit.cswap(q_b[2], q_b[3], q_b[4])\n",
    "circuit.cswap(q_b[3], q_b[4], q_b[0])\n",
    "circuit.barrier(q_b)\n",
    "circuit.measure(q_a, c_a)\n",
    "circuit.measure(q_b, c_b);"
   ]
  },
  {
   "cell_type": "code",
   "execution_count": null,
   "metadata": {},
   "outputs": [],
   "source": [
    "# Draw the circuit\n",
    "circuit.draw(output='mpl')"
   ]
  },
  {
   "cell_type": "code",
   "execution_count": null,
   "metadata": {},
   "outputs": [],
   "source": [
    "# Draw the circuit with reversed bit order\n",
    "circuit.draw(output='mpl', reverse_bits=True)"
   ]
  },
  {
   "cell_type": "code",
   "execution_count": null,
   "metadata": {},
   "outputs": [],
   "source": [
    "# Draw the circuit without barriers\n",
    "circuit.draw(output='mpl', plot_barriers=False)"
   ]
  },
  {
   "cell_type": "markdown",
   "metadata": {},
   "source": [
    "##### Backend specific costumizations"
   ]
  },
  {
   "cell_type": "code",
   "execution_count": null,
   "metadata": {},
   "outputs": [],
   "source": [
    "# Change the background color in mpl\n",
    "\n",
    "style = {'backgroundcolor': 'lightgreen'}\n",
    "\n",
    "circuit.draw(output='mpl', style=style)"
   ]
  },
  {
   "cell_type": "code",
   "execution_count": null,
   "metadata": {},
   "outputs": [],
   "source": [
    "# Scale the mpl output to 1/2 the normal size\n",
    "circuit.draw(output='mpl', scale=0.5)"
   ]
  },
  {
   "cell_type": "markdown",
   "metadata": {},
   "source": [
    "We can also use ``circuit_drawer()`` as a function"
   ]
  },
  {
   "cell_type": "code",
   "execution_count": null,
   "metadata": {},
   "outputs": [],
   "source": [
    "from qiskit.tools.visualization import circuit_drawer"
   ]
  },
  {
   "cell_type": "code",
   "execution_count": null,
   "metadata": {},
   "outputs": [],
   "source": [
    "circuit_drawer(circuit, output='mpl', plot_barriers=False)"
   ]
  },
  {
   "cell_type": "markdown",
   "metadata": {},
   "source": [
    "### Simulators "
   ]
  },
  {
   "cell_type": "markdown",
   "metadata": {},
   "source": [
    "Now we will show how to import the Qiskit Aer simulator backend and use it to run ideal (noise free) Qiskit Terra circuits."
   ]
  },
  {
   "cell_type": "code",
   "execution_count": null,
   "metadata": {},
   "outputs": [],
   "source": [
    "import numpy as np\n",
    "\n",
    "# Import Qiskit\n",
    "from qiskit import QuantumCircuit\n",
    "from qiskit import Aer, transpile\n",
    "from qiskit.tools.visualization import plot_histogram, plot_state_city\n",
    "import qiskit.quantum_info as qi"
   ]
  },
  {
   "cell_type": "markdown",
   "metadata": {},
   "source": [
    "The Aer provider contains a variety of high performance simulator backends for a variety of simulation methods. The available backends on the current system can be viewed using ``Aer.backends``"
   ]
  },
  {
   "cell_type": "code",
   "execution_count": null,
   "metadata": {},
   "outputs": [],
   "source": [
    "Aer.backends()"
   ]
  },
  {
   "cell_type": "markdown",
   "metadata": {},
   "source": [
    "The main simulator backend of the Aer provider is the ``AerSimulator`` backend. A new simulator backend can be created using ``Aer.get_backend('aer_simulator')``."
   ]
  },
  {
   "cell_type": "code",
   "execution_count": null,
   "metadata": {},
   "outputs": [],
   "source": [
    "simulator = Aer.get_backend('aer_simulator')"
   ]
  },
  {
   "cell_type": "markdown",
   "metadata": {},
   "source": [
    "The default behavior of the ``AerSimulator`` backend is to mimic the execution of an actual device. If a ``QuantumCircuit`` containing measurements is run it will return a count dictionary containing the final values of any classical registers in the circuit. The circuit may contain gates, measurements, resets, conditionals, and other custom simulator instructions "
   ]
  },
  {
   "cell_type": "code",
   "execution_count": null,
   "metadata": {},
   "outputs": [],
   "source": [
    "# Create circuit\n",
    "circ = QuantumCircuit(2)\n",
    "circ.h(0)\n",
    "circ.cx(0, 1)\n",
    "circ.measure_all()\n",
    "\n",
    "# Transpile for simulator\n",
    "simulator = Aer.get_backend('aer_simulator')\n",
    "circ = transpile(circ, simulator)\n",
    "\n",
    "# Run and get counts\n",
    "result = simulator.run(circ).result()\n",
    "counts = result.get_counts(circ)\n",
    "plot_histogram(counts, title='Bell-State counts')"
   ]
  },
  {
   "cell_type": "code",
   "execution_count": null,
   "metadata": {},
   "outputs": [],
   "source": [
    "# Run and get memory (measurement outcomes for each individual shot)\n",
    "result = simulator.run(circ, shots=10, memory=True).result()\n",
    "memory = result.get_memory(circ)\n",
    "print(memory)"
   ]
  },
  {
   "cell_type": "markdown",
   "metadata": {},
   "source": [
    "##### Simulation methods\n",
    "\n",
    "The AerSimulator supports a variety of simulation methods, each of which supports a different set of instructions. The method can be set manually using ``simulator.set_option(method=value)`` option, or a simulator backend with a preconfigured method can be obtained directly from the Aer provider using ``Aer.get_backend``.\n",
    "\n",
    "When simulating ideal circuits, changing the method between the exact simulation methods stabilizer, ``statevector``, ``density_matrix`` and ``matrix_product_state`` should not change the simulation result (other than usual variations from sampling probabilities for measurement outcomes)\n",
    "\n",
    "Each of these methods determines the internal representation of the quantum circuit and the algorithms used to process the quantum operations. They each have advantages and disadvantages, and choosing the best method is a matter of investigation. "
   ]
  },
  {
   "cell_type": "code",
   "execution_count": null,
   "metadata": {},
   "outputs": [],
   "source": [
    "# Increase shots to reduce sampling variance\n",
    "shots = 10000\n",
    "\n",
    "# Stabilizer simulation method\n",
    "sim_stabilizer = Aer.get_backend('aer_simulator_stabilizer')\n",
    "job_stabilizer = sim_stabilizer.run(circ, shots=shots)\n",
    "counts_stabilizer = job_stabilizer.result().get_counts(0)\n",
    "\n",
    "# Statevector simulation method\n",
    "sim_statevector = Aer.get_backend('aer_simulator_statevector')\n",
    "job_statevector = sim_statevector.run(circ, shots=shots)\n",
    "counts_statevector = job_statevector.result().get_counts(0)\n",
    "\n",
    "# Density Matrix simulation method\n",
    "sim_density = Aer.get_backend('aer_simulator_density_matrix')\n",
    "job_density = sim_density.run(circ, shots=shots)\n",
    "counts_density = job_density.result().get_counts(0)\n",
    "\n",
    "# Matrix Product State simulation method\n",
    "sim_mps = Aer.get_backend('aer_simulator_matrix_product_state')\n",
    "job_mps = sim_mps.run(circ, shots=shots)\n",
    "counts_mps = job_mps.result().get_counts(0)\n",
    "\n",
    "plot_histogram([counts_stabilizer, counts_statevector, counts_density, counts_mps],\n",
    "               title='Counts for different simulation methods',\n",
    "               legend=['stabilizer', 'statevector',\n",
    "                       'density_matrix', 'matrix_product_state'])"
   ]
  },
  {
   "cell_type": "markdown",
   "metadata": {},
   "source": [
    "The default simulation method is automatic which will automatically select a one of the other simulation methods for each circuit based on the instructions in those circuits. A fixed simulation method can be specified by by adding the method name when getting the backend, or by setting the method option on the backend."
   ]
  },
  {
   "cell_type": "markdown",
   "metadata": {},
   "source": [
    "##### GPU simulation\n",
    "\n",
    "The statevector, density_matrix and unitary simulators support running on a NVidia GPUs. For these methods the simulation device can also be manually set to CPU or GPU using ``simulator.set_options(device='GPU')`` backend option. If a GPU device is not available setting this option will raise an exception."
   ]
  },
  {
   "cell_type": "code",
   "execution_count": null,
   "metadata": {},
   "outputs": [],
   "source": [
    "from qiskit.providers.aer import AerError\n",
    "\n",
    "# Initialize a GPU backend\n",
    "# Note that the cloud instance for tutorials does not have a GPU\n",
    "# so this will raise an exception.\n",
    "try:\n",
    "    simulator_gpu = Aer.get_backend('aer_simulator')\n",
    "    simulator_gpu.set_options(device='GPU')\n",
    "except AerError as e:\n",
    "    print(e)"
   ]
  },
  {
   "cell_type": "markdown",
   "metadata": {},
   "source": [
    "The Aer provider will also contain preconfigured GPU simulator backends if Qiskit Aer was installed with GPU support on a compatible system:\n",
    "\n",
    "* ``aer_simulator_statevector_gpu``\n",
    "* ``aer_simulator_density_matrix_gpu``\n",
    "* ``aer_simulator_unitary_gpu``\n",
    "\n",
    "Note: The GPU version of Aer can be installed using ``pip install qiskit-aer-gpu``."
   ]
  },
  {
   "cell_type": "markdown",
   "metadata": {},
   "source": [
    "##### Simulation precision\n",
    "\n",
    "One of the available simulator options allows setting the float precision for the statevector, density_matrix unitary and superop methods. This is done using the ``set_precision=\"single\"`` or ``precision=\"double\" `` (default) option:"
   ]
  },
  {
   "cell_type": "code",
   "execution_count": null,
   "metadata": {},
   "outputs": [],
   "source": [
    "# Configure a single-precision statevector simulator backend\n",
    "simulator = Aer.get_backend('aer_simulator_statevector')\n",
    "simulator.set_options(precision='single')\n",
    "\n",
    "# Run and get counts\n",
    "result = simulator.run(circ).result()\n",
    "counts = result.get_counts(circ)\n",
    "print(counts)"
   ]
  },
  {
   "cell_type": "markdown",
   "metadata": {},
   "source": [
    "Setting the simulation precision applies to both CPU and GPU simulation devices. Single precision will halve the required memory and may provide performance improvements on certain systems."
   ]
  },
  {
   "cell_type": "markdown",
   "metadata": {},
   "source": [
    "##### Can we simulate noise?"
   ]
  },
  {
   "cell_type": "markdown",
   "metadata": {},
   "source": [
    "##### Device backend noise model simulations\n",
    "\n",
    "We will now show how to use the Qiskit Aer noise module to automatically generate a basic noise model for an IBMQ hardware device, and use this model to do noisy simulations of QuantumCircuits to study the effects of errors which occur on real devices.\n",
    "\n",
    "Note, that these automatic models are only an approximation of the real errors that occur on actual devices, due to the fact that they must be build from a limited set of input parameters related to average error rates on gates. The study of quantum errors on real devices is an active area of research and we discuss the Qiskit Aer tools for configuring more detailed noise models in another notebook."
   ]
  },
  {
   "cell_type": "code",
   "execution_count": null,
   "metadata": {},
   "outputs": [],
   "source": [
    "from qiskit import IBMQ, transpile\n",
    "from qiskit import QuantumCircuit\n",
    "from qiskit.providers.aer import AerSimulator\n",
    "from qiskit.tools.visualization import plot_histogram"
   ]
  },
  {
   "cell_type": "markdown",
   "metadata": {},
   "source": [
    "The Qiskit Aer device noise model automatically generates a simplified noise model for a real device. This model is generated using the calibration information reported in the ``BackendProperties`` of a device and takes into account\n",
    "\n",
    "* The gate_error probability of each basis gate on each qubit.\n",
    "* The gate_length of each basis gate on each qubit.\n",
    "* The T1, T2 relaxation time constants of each qubit.\n",
    "* The readout error probability of each qubit."
   ]
  },
  {
   "cell_type": "markdown",
   "metadata": {},
   "source": [
    "We will use real noise data for an IBM Quantum device using the data stored in Qiskit Terra. Specifically, in this tutorial, the device is ``ibmq_vigo```."
   ]
  },
  {
   "cell_type": "code",
   "execution_count": null,
   "metadata": {},
   "outputs": [],
   "source": [
    "from qiskit.test.mock import FakeVigo\n",
    "device_backend = FakeVigo()"
   ]
  },
  {
   "cell_type": "markdown",
   "metadata": {},
   "source": [
    "Now we construct a test circuit to compare the output of the real device with the noisy output simulated on the Qiskit Aer AerSimulator. Before running with noise or on the device we show the ideal expected output with no noise."
   ]
  },
  {
   "cell_type": "code",
   "execution_count": null,
   "metadata": {},
   "outputs": [],
   "source": [
    "# Construct quantum circuit\n",
    "circ = QuantumCircuit(3, 3)\n",
    "circ.h(0)\n",
    "circ.cx(0, 1)\n",
    "circ.cx(1, 2)\n",
    "circ.measure([0, 1, 2], [0, 1, 2])\n",
    "\n",
    "sim_ideal = AerSimulator()\n",
    "\n",
    "# Execute and get counts\n",
    "result = sim_ideal.run(transpile(circ, sim_ideal)).result()\n",
    "counts = result.get_counts(0)\n",
    "plot_histogram(counts, title='Ideal counts for 3-qubit GHZ state')"
   ]
  },
  {
   "cell_type": "markdown",
   "metadata": {},
   "source": [
    "How to generate a simulator that mimics a device?\n"
   ]
  },
  {
   "cell_type": "markdown",
   "metadata": {},
   "source": [
    "We call ``from_backend`` to create a simulator for ``ibmq_vigo``"
   ]
  },
  {
   "cell_type": "code",
   "execution_count": null,
   "metadata": {},
   "outputs": [],
   "source": [
    "sim_vigo = AerSimulator.from_backend(device_backend)"
   ]
  },
  {
   "cell_type": "markdown",
   "metadata": {},
   "source": [
    "By storing the device properties in ``vigo_simulator``, we ensure that the appropriate basis gates and coupling map are used when compiling circuits for simulation, thereby most closely mimicking the gates that will be executed on a real device. In addition ``vigo_simulator`` contains an approximate noise model consisting of:\n",
    "\n",
    "* Single-qubit gate errors consisting of a single qubit depolarizing error followed by a single qubit thermal relaxation error.\n",
    "* Two-qubit gate errors consisting of a two-qubit depolarizing error followed by single-qubit thermal relaxation errors on both qubits in the gate.\n",
    "* Single-qubit readout errors on the classical bit value obtained from measurements on individual qubits.\n",
    "\n",
    "For the gate errors the error parameter of the thermal relaxation errors is derived using the ``thermal_relaxation_error`` function from ``aer.noise.errors module``, along with the individual qubit T1 and T2 parameters, and the ``gate_time`` parameter from the device backend properties. The probability of the depolarizing error is then set so that the combined average gate infidelity from the depolarizing error followed by the thermal relaxation is equal to the ``gate_error`` value from the backend properties.\n",
    "\n",
    "For the readout errors the probability that the recorded classical bit value will be flipped from the true outcome after a measurement is given by the qubit ``readout_errors``."
   ]
  },
  {
   "cell_type": "markdown",
   "metadata": {},
   "source": [
    "Once we have created a noisy simulator backend based on a real device we can use it to run noisy simulations.\n",
    "\n",
    "Important: When running noisy simulations it is critical to transpile the circuit for the backend so that the circuit is transpiled to the correct noisy basis gate set for the backend."
   ]
  },
  {
   "cell_type": "code",
   "execution_count": null,
   "metadata": {},
   "outputs": [],
   "source": [
    "# Transpile the circuit for the noisy basis gates\n",
    "tcirc = transpile(circ, sim_vigo)\n",
    "\n",
    "# Execute noisy simulation and get counts\n",
    "result_noise = sim_vigo.run(tcirc).result()\n",
    "counts_noise = result_noise.get_counts(0)\n",
    "plot_histogram(counts_noise,\n",
    "               title=\"Counts for 3-qubit GHZ state with device noise model\")"
   ]
  },
  {
   "cell_type": "markdown",
   "metadata": {},
   "source": [
    "You may also be interested in:\n",
    "* Building Noise Models https://qiskit.org/documentation/tutorials/simulators/3_building_noise_models.html"
   ]
  },
  {
   "cell_type": "markdown",
   "metadata": {},
   "source": [
    "* Applying noise to custom unitary gates https://qiskit.org/documentation/tutorials/simulators/4_custom_gate_noise.html"
   ]
  },
  {
   "cell_type": "markdown",
   "metadata": {},
   "source": [
    "##  2. Building Circuits with multiple components\n"
   ]
  },
  {
   "cell_type": "markdown",
   "metadata": {},
   "source": [
    "### Quantum Circuit Properties"
   ]
  },
  {
   "cell_type": "markdown",
   "metadata": {},
   "source": [
    "When constructing quantum circuits, there are several properties that help quantify the “size” of the circuits, and their ability to be run on a noisy quantum device. Some of these, like number of qubits, are straightforward to understand, while others like depth and number of tensor components require a bit more explanation. Here we will explain all of these properties, and, in preparation for understanding how circuits change when run on actual devices, highlight the conditions under which they change."
   ]
  },
  {
   "cell_type": "code",
   "execution_count": null,
   "metadata": {},
   "outputs": [],
   "source": [
    "qc = QuantumCircuit(12)\n",
    "for idx in range(5):\n",
    "   qc.h(idx)\n",
    "   qc.cx(idx, idx+5)\n",
    "\n",
    "qc.cx(1, 7)\n",
    "qc.x(8)\n",
    "qc.cx(1, 9)\n",
    "qc.x(7)\n",
    "qc.cx(1, 11)\n",
    "qc.swap(6, 11)\n",
    "qc.swap(6, 9)\n",
    "qc.swap(6, 10)\n",
    "qc.x(6)\n",
    "qc.draw()"
   ]
  },
  {
   "cell_type": "markdown",
   "metadata": {},
   "source": [
    "From the plot, it is easy to see that this circuit has 12 qubits, and a collection of Hadamard, CNOT, X, and SWAP gates. But how to quantify this programmatically? Because we can do single-qubit gates on all the qubits simultaneously, the number of qubits in this circuit is equal to the width of the circuit:"
   ]
  },
  {
   "cell_type": "code",
   "execution_count": null,
   "metadata": {},
   "outputs": [],
   "source": [
    "qc.width()"
   ]
  },
  {
   "cell_type": "markdown",
   "metadata": {},
   "source": [
    "We can also just get the number of qubits directly:"
   ]
  },
  {
   "cell_type": "code",
   "execution_count": null,
   "metadata": {},
   "outputs": [],
   "source": [
    "qc.num_qubits"
   ]
  },
  {
   "cell_type": "markdown",
   "metadata": {},
   "source": [
    "**IMPORTANT**\n",
    "\n",
    "For a quantum circuit composed from just qubits, the circuit width is equal to the number of qubits. This is the definition used in quantum computing. However, for more complicated circuits with classical registers, and classically controlled gates, this equivalence breaks down. As such, from now on we will not refer to the number of qubits in a quantum circuit as the width\n"
   ]
  },
  {
   "cell_type": "markdown",
   "metadata": {},
   "source": [
    "It is also straightforward to get the number and type of the gates in a circuit using `QuantumCircuit.count_ops()`:"
   ]
  },
  {
   "cell_type": "code",
   "execution_count": null,
   "metadata": {},
   "outputs": [],
   "source": [
    "qc.count_ops()"
   ]
  },
  {
   "cell_type": "markdown",
   "metadata": {},
   "source": [
    "We can also get just the raw count of operations by computing the circuits `QuantumCircuit.size()`:"
   ]
  },
  {
   "cell_type": "code",
   "execution_count": null,
   "metadata": {},
   "outputs": [],
   "source": [
    "qc.size()"
   ]
  },
  {
   "cell_type": "markdown",
   "metadata": {},
   "source": [
    "A particularly important circuit property is known as the circuit depth. The depth of a quantum circuit is a measure of how many “layers” of quantum gates, executed in parallel, it takes to complete the computation defined by the circuit. Because quantum gates take time to implement, the depth of a circuit roughly corresponds to the amount of time it takes the quantum computer to execute the circuit. Thus, the depth of a circuit is one important quantity used to measure if a quantum circuit can be run on a device."
   ]
  },
  {
   "cell_type": "code",
   "execution_count": null,
   "metadata": {},
   "outputs": [],
   "source": [
    "qc.depth()"
   ]
  },
  {
   "cell_type": "markdown",
   "metadata": {},
   "source": [
    "### Final Statevector and Unitary"
   ]
  },
  {
   "cell_type": "markdown",
   "metadata": {},
   "source": [
    "To save the final statevector of the simulation we can append the circuit with the ``save_statevector`` instruction. Note that this instruction should be applied before any measurements if we do not want to save the collapsed post-measurement state"
   ]
  },
  {
   "cell_type": "code",
   "execution_count": null,
   "metadata": {},
   "outputs": [],
   "source": [
    "# Saving the final statevector\n",
    "# Construct quantum circuit without measure\n",
    "\n",
    "from qiskit.visualization import array_to_latex\n",
    "\n",
    "circuit = QuantumCircuit(2)\n",
    "circuit.h(0)\n",
    "circuit.cx(0, 1)\n",
    "circuit.save_statevector()\n",
    "\n",
    "backend = Aer.get_backend('aer_simulator')\n",
    "result = backend.run(circuit).result()\n",
    "array_to_latex(result.get_statevector())"
   ]
  },
  {
   "cell_type": "markdown",
   "metadata": {},
   "source": [
    "To save the unitary matrix for a ``QuantumCircuit`` we can append the circuit with the ``save_unitary`` instruction. Note that this circuit cannot contain any measurements or resets since these instructions are not supported on for the ``\"unitary\"`` simulation method"
   ]
  },
  {
   "cell_type": "code",
   "execution_count": null,
   "metadata": {},
   "outputs": [],
   "source": [
    "# Saving the circuit unitary\n",
    "# Construct quantum circuit without measure\n",
    "\n",
    "circuit = QuantumCircuit(2)\n",
    "circuit.h(0)\n",
    "circuit.cx(0, 1)\n",
    "circuit.save_unitary()\n",
    "\n",
    "result = backend.run(circuit).result()\n",
    "array_to_latex(result.get_unitary())"
   ]
  },
  {
   "cell_type": "markdown",
   "metadata": {},
   "source": [
    "We can also apply save instructions at multiple locations in a circuit. Note that when doing this we must provide a unique label for each instruction to retrieve them from the results."
   ]
  },
  {
   "cell_type": "code",
   "execution_count": null,
   "metadata": {},
   "outputs": [],
   "source": [
    "# Saving multiple states\n",
    "# Construct quantum circuit without measure\n",
    "\n",
    "steps = 5\n",
    "circ = QuantumCircuit(1)\n",
    "for i in range(steps):\n",
    "    circ.save_statevector(label=f'psi_{i}')\n",
    "    circ.rx(i * np.pi / steps, 0)\n",
    "circ.save_statevector(label=f'psi_{steps}')\n",
    "\n",
    "# Transpile for simulator\n",
    "simulator = Aer.get_backend('aer_simulator')\n",
    "circ = transpile(circ, simulator)\n",
    "\n",
    "# Run and get saved data\n",
    "result = simulator.run(circ).result()\n",
    "data = result.data(0)\n",
    "data"
   ]
  },
  {
   "cell_type": "markdown",
   "metadata": {},
   "source": [
    "##### Setting a custom statevector\n",
    "\n",
    "The ``set_statevector`` instruction can be used to set a custom Statevector state. The input statevector must be valid."
   ]
  },
  {
   "cell_type": "code",
   "execution_count": null,
   "metadata": {},
   "outputs": [],
   "source": [
    "# Generate a random statevector\n",
    "num_qubits = 2\n",
    "psi = qi.random_statevector(2 ** num_qubits, seed=100)\n",
    "\n",
    "# Set initial state to generated statevector\n",
    "circ = QuantumCircuit(num_qubits)\n",
    "circ.set_statevector(psi)\n",
    "circ.save_state()\n",
    "\n",
    "# Transpile for simulator\n",
    "simulator = Aer.get_backend('aer_simulator')\n",
    "circ = transpile(circ, simulator)\n",
    "\n",
    "# Run and get saved data\n",
    "result = simulator.run(circ).result()\n",
    "result.data(0)"
   ]
  },
  {
   "cell_type": "code",
   "execution_count": null,
   "metadata": {},
   "outputs": [],
   "source": [
    "# Initialization (Using the initialize instruction)\n",
    "\n",
    "qc = QuantumCircuit(4)\n",
    "\n",
    "qc.initialize('01+-')\n",
    "qc.draw()\n",
    "qc.decompose().draw()"
   ]
  },
  {
   "cell_type": "code",
   "execution_count": null,
   "metadata": {},
   "outputs": [],
   "source": [
    "# Initialization\n",
    "\n",
    "import math\n",
    "\n",
    "desired_vector = [1 / math.sqrt(2), 1 / math.sqrt(2), 0, 0]\n",
    "display(array_to_latex(desired_vector))\n",
    "\n",
    "\n",
    "qc = QuantumCircuit(2)\n",
    "qc.initialize(desired_vector, [0, 1])\n",
    "qc.draw()"
   ]
  },
  {
   "cell_type": "code",
   "execution_count": null,
   "metadata": {},
   "outputs": [],
   "source": [
    "from qiskit import transpile\n",
    "simulator = Aer.get_backend('aer_simulator')\n",
    "qc_transpiled = transpile(qc, simulator, basis_gates=['x', 'cx', 'ry', 'rz'], optimization_level=3)\n",
    "#qc_transpiled = transpile(qc, simulator, optimization_level=3)\n",
    "#qc_transpiled.decompose().decompose().decompose().decompose().draw()\n",
    "qc_transpiled.draw()"
   ]
  },
  {
   "cell_type": "markdown",
   "metadata": {},
   "source": [
    "There is another option to initalize the circuit to a desired quantum state. \n",
    "We use ` qiskit.circuit.QuantumCircuit.isometry` In general, it is used for attaching an arbitrary isometry from m to n qubits to a circuit. In particular, this allows to attach arbitrary unitaries on n qubits (m=n) or to prepare any state on n qubits (m=0). The decomposition used here was introduced by Iten et al. in https://arxiv.org/abs/1501.06911. This is important because in many experimental architectures, the C-NOT gate is relatively 'expensive' and hence we aim to keep the number of these as low as possible. "
   ]
  },
  {
   "cell_type": "code",
   "execution_count": null,
   "metadata": {},
   "outputs": [],
   "source": [
    "# Isometry\n",
    "qc = QuantumCircuit(2)\n",
    "qc.isometry(desired_vector, q_input=[],q_ancillas_for_output=[0,1])\n",
    "qc.draw()"
   ]
  },
  {
   "cell_type": "code",
   "execution_count": null,
   "metadata": {},
   "outputs": [],
   "source": [
    "simulator = Aer.get_backend('aer_simulator')\n",
    "qc_transpiled = transpile(qc, simulator, optimization_level=3)\n",
    "qc_transpiled.draw()"
   ]
  },
  {
   "cell_type": "markdown",
   "metadata": {},
   "source": [
    "Let's compare both circuit outputs. Which one has more gates?"
   ]
  },
  {
   "cell_type": "markdown",
   "metadata": {},
   "source": [
    "### Other components"
   ]
  },
  {
   "cell_type": "code",
   "execution_count": null,
   "metadata": {},
   "outputs": [],
   "source": [
    "#Composite gates\n",
    "\n",
    "# Build a sub-circuit\n",
    "sub_q = QuantumRegister(2)\n",
    "sub_circ = QuantumCircuit(sub_q, name='sub_circ')\n",
    "sub_circ.h(sub_q[0])\n",
    "sub_circ.crz(1, sub_q[0], sub_q[1])\n",
    "sub_circ.barrier()\n",
    "sub_circ.id(sub_q[1])\n",
    "sub_circ.u(1, 2, -2, sub_q[0])\n",
    "\n",
    "# Convert to a gate and stick it into an arbitrary place in the bigger circuit\n",
    "sub_inst = sub_circ.to_instruction()\n",
    "\n",
    "qr = QuantumRegister(3, 'q')\n",
    "circ = QuantumCircuit(qr)\n",
    "circ.h(qr[0])\n",
    "circ.cx(qr[0], qr[1])\n",
    "circ.cx(qr[1], qr[2])\n",
    "circ.append(sub_inst, [qr[1], qr[2]])\n",
    "\n",
    "circ.draw()"
   ]
  },
  {
   "cell_type": "markdown",
   "metadata": {},
   "source": [
    "Circuits are not immediately decomposed upon conversion to_instruction to allow circuit design at higher levels of abstraction. When desired, or before compilation, sub-circuits will be decomposed via the decompose method."
   ]
  },
  {
   "cell_type": "code",
   "execution_count": null,
   "metadata": {},
   "outputs": [],
   "source": [
    "decomposed_circ = circ.decompose() # Does not modify original circuit\n",
    "decomposed_circ.draw()"
   ]
  },
  {
   "cell_type": "code",
   "execution_count": null,
   "metadata": {},
   "outputs": [],
   "source": [
    "# Circuit with Global Phase\n",
    "\n",
    "circuit = QuantumCircuit(2)\n",
    "circuit.h(0)\n",
    "#circuit.save_unitary()\n",
    "circuit.cx(0, 1)\n",
    "circuit.global_phase = np.pi / 2\n",
    "circuit.save_unitary()\n",
    "\n",
    "display(circuit.draw())\n",
    "#backend = Aer.get_backend('unitary_simulator')\n",
    "backend = Aer.get_backend('aer_simulator_unitary')\n",
    "result = backend.run(circuit).result()\n",
    "array_to_latex(result.get_unitary())"
   ]
  },
  {
   "cell_type": "code",
   "execution_count": null,
   "metadata": {},
   "outputs": [],
   "source": [
    "# Parameterized Quantum Circuits \n",
    "\n",
    "from qiskit.circuit import Parameter\n",
    "theta = Parameter('theta')\n",
    "\n",
    "circuit = QuantumCircuit(1)\n",
    "circuit.rx(theta, 0)\n",
    "circuit.measure_all()\n",
    "circuit.draw()"
   ]
  },
  {
   "cell_type": "code",
   "execution_count": null,
   "metadata": {},
   "outputs": [],
   "source": [
    "res = sim.run(circuit, parameter_binds=[{theta: [np.pi/2, np.pi, 0]}]).result()  # Different bindings\n",
    "res.get_counts()"
   ]
  },
  {
   "cell_type": "code",
   "execution_count": null,
   "metadata": {},
   "outputs": [],
   "source": [
    "from qiskit.circuit import Parameter\n",
    "\n",
    "theta = Parameter('θ')\n",
    "\n",
    "n = 5\n",
    "\n",
    "qc = QuantumCircuit(5, 1)\n",
    "\n",
    "qc.h(0)\n",
    "for i in range(n-1):\n",
    "    qc.cx(i, i+1)\n",
    "\n",
    "qc.barrier()\n",
    "qc.rz(theta, range(5))\n",
    "qc.barrier()\n",
    "\n",
    "for i in reversed(range(n-1)):\n",
    "    qc.cx(i, i+1)\n",
    "qc.h(0)\n",
    "qc.measure(0, 0)\n",
    "\n",
    "qc.draw('mpl')"
   ]
  },
  {
   "cell_type": "code",
   "execution_count": null,
   "metadata": {},
   "outputs": [],
   "source": [
    "#We can inspect the circuit’s parameters\n",
    "print(qc.parameters)"
   ]
  },
  {
   "cell_type": "markdown",
   "metadata": {},
   "source": [
    "All circuit parameters must be bound before sending the circuit to a backend. This can be done as follows: - The``bind_parameters`` method accepts a dictionary mapping ``Parameter``s to values, and returns a new circuit with each parameter replaced by its corresponding value. Partial binding is supported, in which case the returned circuit will be parameterized by any ``Parameter``s that were not mapped to a value."
   ]
  },
  {
   "cell_type": "code",
   "execution_count": null,
   "metadata": {},
   "outputs": [],
   "source": [
    "import numpy as np\n",
    "\n",
    "theta_range = np.linspace(0, 2 * np.pi, 128)\n",
    "\n",
    "circuits = [qc.bind_parameters({theta: theta_val})\n",
    "            for theta_val in theta_range]\n",
    "\n",
    "circuits[-1].draw()"
   ]
  },
  {
   "cell_type": "code",
   "execution_count": null,
   "metadata": {},
   "outputs": [],
   "source": [
    "backend = Aer.get_backend('aer_simulator')\n",
    "job = backend.run(transpile(circuits, backend))\n",
    "counts = job.result().get_counts()"
   ]
  },
  {
   "cell_type": "markdown",
   "metadata": {},
   "source": [
    "In the example circuit, we apply a global Rz(θ) rotation on a five-qubit entangled state, and so expect to see oscillation in qubit-0 at 5θ."
   ]
  },
  {
   "cell_type": "code",
   "execution_count": null,
   "metadata": {},
   "outputs": [],
   "source": [
    "import matplotlib.pyplot as plt\n",
    "fig = plt.figure(figsize=(8,6))\n",
    "ax = fig.add_subplot(111)\n",
    "\n",
    "ax.plot(theta_range, list(map(lambda c: c.get('0', 0), counts)), '.-', label='0')\n",
    "ax.plot(theta_range, list(map(lambda c: c.get('1', 0), counts)), '.-', label='1')\n",
    "\n",
    "ax.set_xticks([i * np.pi / 2 for i in range(5)])\n",
    "ax.set_xticklabels(['0', r'$\\frac{\\pi}{2}$', r'$\\pi$', r'$\\frac{3\\pi}{2}$', r'$2\\pi$'], fontsize=14)\n",
    "ax.set_xlabel('θ', fontsize=14)\n",
    "ax.set_ylabel('Counts', fontsize=14)\n",
    "ax.legend(fontsize=14)"
   ]
  },
  {
   "cell_type": "code",
   "execution_count": null,
   "metadata": {},
   "outputs": [],
   "source": [
    "# Random Circuit\n",
    "\n",
    "from qiskit.circuit.random import random_circuit\n",
    "\n",
    "circ = random_circuit(2, 2, measure=True)\n",
    "circ.draw(output='mpl')"
   ]
  },
  {
   "cell_type": "code",
   "execution_count": null,
   "metadata": {},
   "outputs": [],
   "source": [
    "# Pauli\n",
    "from qiskit.quantum_info.operators import Pauli\n",
    "\n",
    "circuit = QuantumCircuit(4)\n",
    "IXYZ = Pauli('IXYZ')\n",
    "circuit.append(IXYZ, [0, 1, 2, 3])\n",
    "circuit.draw()\n",
    "# circuit.decompose().draw()"
   ]
  },
  {
   "cell_type": "code",
   "execution_count": null,
   "metadata": {},
   "outputs": [],
   "source": [
    "# Pauli with phase \n",
    "from qiskit.quantum_info.operators import Pauli\n",
    "\n",
    "circuit = QuantumCircuit(4)\n",
    "iIXYZ = Pauli('iIXYZ')  # ['', '-i', '-', 'i']\n",
    "circuit.append(iIXYZ, [0, 1, 2, 3])\n",
    "circuit.draw()"
   ]
  },
  {
   "cell_type": "code",
   "execution_count": null,
   "metadata": {},
   "outputs": [],
   "source": [
    "# Any unitary!\n",
    "matrix = [[0, 0, 0, 1],\n",
    "          [0, 0, 1, 0],\n",
    "          [1, 0, 0, 0],\n",
    "          [0, 1, 0, 0]]\n",
    "          \n",
    "circuit = QuantumCircuit(2)\n",
    "circuit.unitary(matrix, [0, 1])\n",
    "circuit.draw()\n",
    "# circuit.decompose().draw() #synthesis"
   ]
  },
  {
   "cell_type": "code",
   "execution_count": null,
   "metadata": {},
   "outputs": [],
   "source": [
    "# Classical logic\n",
    "from qiskit.circuit import classical_function, Int1\n",
    "\n",
    "@classical_function\n",
    "def oracle(x: Int1, y: Int1, z: Int1) -> Int1:\n",
    "    return not x and (y or z)\n",
    "\n",
    "circuit = QuantumCircuit(4)\n",
    "circuit.append(oracle, [0, 1, 2, 3])\n",
    "circuit.draw()\n",
    "# circuit.decompose().draw() #synthesis"
   ]
  },
  {
   "cell_type": "code",
   "execution_count": null,
   "metadata": {},
   "outputs": [],
   "source": [
    "# Classical logic\n",
    "from qiskit.circuit import classical_function, Int1\n",
    "@classical_function\n",
    "def oracle(x: Int1) -> Int1:\n",
    "    return not x\n",
    "circuit = QuantumCircuit(2)\n",
    "circuit.append(oracle, [0, 1])\n",
    "circuit.draw()\n",
    "# circuit.decompose().draw() #synthesis"
   ]
  },
  {
   "cell_type": "markdown",
   "metadata": {},
   "source": [
    "##### How to create an operator?"
   ]
  },
  {
   "cell_type": "markdown",
   "metadata": {},
   "source": [
    "https://qiskit.org/documentation/tutorials/circuits_advanced/02_operators_overview.html"
   ]
  },
  {
   "cell_type": "markdown",
   "metadata": {},
   "source": [
    "## 3. Compiling Circuits"
   ]
  },
  {
   "cell_type": "markdown",
   "metadata": {},
   "source": [
    "The backends we have access to"
   ]
  },
  {
   "cell_type": "code",
   "execution_count": null,
   "metadata": {},
   "outputs": [],
   "source": [
    "[(b.name(), b.configuration().n_qubits) for b in provider.backends()]"
   ]
  },
  {
   "cell_type": "code",
   "execution_count": null,
   "metadata": {},
   "outputs": [],
   "source": [
    "# If you have access to more than one hub:\n",
    "#provider = IBMQ.get_provider(\"ibm-q-internal\")                  \n",
    "#[(b.name(), b.configuration().n_qubits) for b in provider.backends()]"
   ]
  },
  {
   "cell_type": "code",
   "execution_count": null,
   "metadata": {},
   "outputs": [],
   "source": [
    "from qiskit.tools.jupyter import *\n",
    "%qiskit_backend_overview"
   ]
  },
  {
   "cell_type": "code",
   "execution_count": null,
   "metadata": {},
   "outputs": [],
   "source": [
    "from qiskit.providers.ibmq import least_busy\n",
    "\n",
    "backend = least_busy(provider.backends(\n",
    "                simulator=False,\n",
    "                filters=lambda b: b.configuration().n_qubits >= 2))\n",
    "backend"
   ]
  },
  {
   "cell_type": "markdown",
   "metadata": {},
   "source": [
    "Let's go back to Bell state"
   ]
  },
  {
   "cell_type": "code",
   "execution_count": null,
   "metadata": {},
   "outputs": [],
   "source": [
    "circuit = QuantumCircuit(2)\n",
    "circuit.h(0)\n",
    "circuit.cx(0, 1)\n",
    "circuit.measure_all()\n",
    "circuit.draw()"
   ]
  },
  {
   "cell_type": "markdown",
   "metadata": {},
   "source": [
    "Remember how to run it in a simulator?"
   ]
  },
  {
   "cell_type": "code",
   "execution_count": null,
   "metadata": {},
   "outputs": [],
   "source": [
    "sim = Aer.get_backend('aer_simulator')\n",
    "result = sim.run(circuit).result()\n",
    "counts = result.get_counts()\n",
    "plot_histogram(counts)"
   ]
  },
  {
   "cell_type": "code",
   "execution_count": null,
   "metadata": {},
   "outputs": [],
   "source": [
    "job = backend.run(circuit)"
   ]
  },
  {
   "cell_type": "code",
   "execution_count": null,
   "metadata": {},
   "outputs": [],
   "source": [
    "job.result()"
   ]
  },
  {
   "cell_type": "code",
   "execution_count": null,
   "metadata": {},
   "outputs": [],
   "source": [
    "circuit.draw('mpl')"
   ]
  },
  {
   "cell_type": "code",
   "execution_count": null,
   "metadata": {},
   "outputs": [],
   "source": [
    "from qiskit import transpile\n",
    "\n",
    "transpiled_circuit = transpile(circuit, backend)\n",
    "transpiled_circuit.draw()"
   ]
  },
  {
   "cell_type": "code",
   "execution_count": null,
   "metadata": {},
   "outputs": [],
   "source": [
    "job = backend.run(transpiled_circuit)"
   ]
  },
  {
   "cell_type": "code",
   "execution_count": null,
   "metadata": {},
   "outputs": [],
   "source": [
    "job.status()"
   ]
  },
  {
   "cell_type": "code",
   "execution_count": null,
   "metadata": {},
   "outputs": [],
   "source": [
    "result = job.result()\n",
    "counts = result.get_counts()\n",
    "plot_histogram(counts)"
   ]
  },
  {
   "cell_type": "code",
   "execution_count": null,
   "metadata": {},
   "outputs": [],
   "source": [
    "from qiskit.visualization import plot_circuit_layout, plot_gate_map\n",
    "\n",
    "display(transpiled_circuit.draw(idle_wires=False))\n",
    "display(plot_gate_map(backend))\n",
    "plot_circuit_layout(transpiled_circuit, backend)"
   ]
  },
  {
   "cell_type": "code",
   "execution_count": null,
   "metadata": {},
   "outputs": [],
   "source": [
    "# a slightly more interesting example:\n",
    "circuit = QuantumCircuit(3)\n",
    "circuit.h([0,1,2])\n",
    "circuit.ccx(0, 1, 2)\n",
    "circuit.h([0,1,2])\n",
    "circuit.ccx(2, 0, 1)\n",
    "circuit.h([0,1,2])\n",
    "circuit.measure_all()\n",
    "circuit.draw()"
   ]
  },
  {
   "cell_type": "code",
   "execution_count": null,
   "metadata": {},
   "outputs": [],
   "source": [
    "transpiled = transpile(circuit, backend)\n",
    "transpiled.draw(idle_wires=False, fold=-1)"
   ]
  },
  {
   "cell_type": "markdown",
   "metadata": {},
   "source": [
    "Initial layout"
   ]
  },
  {
   "cell_type": "code",
   "execution_count": null,
   "metadata": {},
   "outputs": [],
   "source": [
    "transpiled = transpile(circuit, backend, initial_layout=[0, 2, 3])\n",
    "display(plot_circuit_layout(transpiled, backend))\n",
    "plot_gate_map(backend)"
   ]
  },
  {
   "cell_type": "code",
   "execution_count": null,
   "metadata": {},
   "outputs": [],
   "source": [
    "transpiled.draw(idle_wires=False, fold=-1)"
   ]
  },
  {
   "cell_type": "markdown",
   "metadata": {},
   "source": [
    "### Optimization level\n",
    "\n",
    "Higher levels generate more optimized circuits, at the expense of longer transpilation time.\n",
    "\n",
    " * 0: no explicit optimization other than mapping to backend\n",
    " * 1: light optimization by simple adjacent gate collapsing.(default)\n",
    " * 2: medium optimization by noise adaptive qubit mapping and gate cancellation using commutativity rules.\n",
    " * 3: heavy optimization by noise adaptive qubit mapping and gate cancellation using commutativity rules and unitary synthesis."
   ]
  },
  {
   "cell_type": "code",
   "execution_count": null,
   "metadata": {},
   "outputs": [],
   "source": [
    "level0 = transpile(circuit, backend, optimization_level=0)\n",
    "level1 = transpile(circuit, backend, optimization_level=1)\n",
    "level2 = transpile(circuit, backend, optimization_level=2)\n",
    "level3 = transpile(circuit, backend, optimization_level=3)"
   ]
  },
  {
   "cell_type": "code",
   "execution_count": null,
   "metadata": {},
   "outputs": [],
   "source": [
    "for level in [level0, level1, level2, level3]:\n",
    "    print(level.count_ops()['cx'], level.depth())"
   ]
  },
  {
   "cell_type": "markdown",
   "metadata": {},
   "source": [
    "Transpiling is a stochastic process"
   ]
  },
  {
   "cell_type": "code",
   "execution_count": null,
   "metadata": {},
   "outputs": [],
   "source": [
    "transpiled = transpile(circuit, backend, optimization_level=2, seed_transpiler=0)\n",
    "transpiled.depth()"
   ]
  },
  {
   "cell_type": "code",
   "execution_count": null,
   "metadata": {},
   "outputs": [],
   "source": [
    "transpiled = transpile(circuit, backend, optimization_level=2, seed_transpiler=1)\n",
    "transpiled.depth()"
   ]
  },
  {
   "cell_type": "markdown",
   "metadata": {},
   "source": [
    "Playing with other transpiler options (without a backend)"
   ]
  },
  {
   "cell_type": "code",
   "execution_count": null,
   "metadata": {},
   "outputs": [],
   "source": [
    "transpiled = transpile(circuit)\n",
    "transpiled.draw(fold=-1)"
   ]
  },
  {
   "cell_type": "markdown",
   "metadata": {},
   "source": [
    "Set a basis gates"
   ]
  },
  {
   "cell_type": "code",
   "execution_count": null,
   "metadata": {},
   "outputs": [],
   "source": [
    "backend.configuration().basis_gates"
   ]
  },
  {
   "cell_type": "code",
   "execution_count": null,
   "metadata": {},
   "outputs": [],
   "source": [
    "transpiled = transpile(circuit, basis_gates=['x', 'cx', 'h', 'p'])\n",
    "transpiled.draw(fold=-1)"
   ]
  },
  {
   "cell_type": "markdown",
   "metadata": {},
   "source": [
    "Set a coupling map"
   ]
  },
  {
   "cell_type": "code",
   "execution_count": null,
   "metadata": {},
   "outputs": [],
   "source": [
    "backend.configuration().coupling_map"
   ]
  },
  {
   "cell_type": "code",
   "execution_count": null,
   "metadata": {},
   "outputs": [],
   "source": [
    "from qiskit.transpiler import CouplingMap\n",
    "\n",
    "transpiled = transpile(circuit, coupling_map=CouplingMap([(0,1),(1,2)]))\n",
    "transpiled.draw(fold=-1)"
   ]
  },
  {
   "cell_type": "markdown",
   "metadata": {},
   "source": [
    "Set an initial layout in a coupling map"
   ]
  },
  {
   "cell_type": "code",
   "execution_count": null,
   "metadata": {},
   "outputs": [],
   "source": [
    "transpiled = transpile(circuit,\n",
    "                       coupling_map=CouplingMap([(0,1),(1,2)]),\n",
    "                       initial_layout=[1, 0, 2])\n",
    "transpiled.draw(fold=-1)"
   ]
  },
  {
   "cell_type": "markdown",
   "metadata": {},
   "source": [
    "Set an initial_layout in the coupling map with basis gates"
   ]
  },
  {
   "cell_type": "code",
   "execution_count": null,
   "metadata": {},
   "outputs": [],
   "source": [
    "transpiled = transpile(circuit,\n",
    "                       coupling_map=CouplingMap([(0,1),(1,2)]),\n",
    "                       initial_layout=[1, 0, 2],\n",
    "                       basis_gates=['x', 'cx', 'h', 'p']\n",
    "                      )\n",
    "transpiled.draw(fold=-1)"
   ]
  },
  {
   "cell_type": "code",
   "execution_count": null,
   "metadata": {},
   "outputs": [],
   "source": [
    "transpiled.count_ops()['cx']"
   ]
  },
  {
   "cell_type": "markdown",
   "metadata": {},
   "source": [
    "Plus optimization level"
   ]
  },
  {
   "cell_type": "code",
   "execution_count": null,
   "metadata": {},
   "outputs": [],
   "source": [
    "transpiled = transpile(circuit,\n",
    "                       coupling_map=CouplingMap([(0,1),(1,2)]),\n",
    "                       initial_layout=[1, 0, 2],\n",
    "                       basis_gates=['x', 'cx', 'h', 'p'],\n",
    "                       optimization_level=3\n",
    "                      )\n",
    "transpiled.draw(fold=-1)"
   ]
  },
  {
   "cell_type": "code",
   "execution_count": null,
   "metadata": {},
   "outputs": [],
   "source": [
    "transpiled.count_ops()['cx']"
   ]
  },
  {
   "cell_type": "markdown",
   "metadata": {},
   "source": [
    "Last parameter, approximation degree"
   ]
  },
  {
   "cell_type": "code",
   "execution_count": null,
   "metadata": {},
   "outputs": [],
   "source": [
    "transpiled = transpile(circuit,\n",
    "                       coupling_map=CouplingMap([(0,1),(1,2)]),\n",
    "                       initial_layout=[1, 0, 2],\n",
    "                       basis_gates=['x', 'cx', 'h', 'p'],\n",
    "                       approximation_degree=0.99,\n",
    "                       optimization_level=3\n",
    "                      )\n",
    "transpiled.draw(fold=-1)"
   ]
  },
  {
   "cell_type": "code",
   "execution_count": null,
   "metadata": {},
   "outputs": [],
   "source": [
    "transpiled.depth()"
   ]
  },
  {
   "cell_type": "code",
   "execution_count": null,
   "metadata": {},
   "outputs": [],
   "source": [
    "transpiled = transpile(circuit,\n",
    "                       coupling_map=CouplingMap([(0,1),(1,2)]),\n",
    "                       initial_layout=[1, 0, 2],\n",
    "                       basis_gates=['x', 'cx', 'h', 'p'],\n",
    "                       approximation_degree=0.01,\n",
    "                       optimization_level=3\n",
    "                      )\n",
    "transpiled.draw(fold=-1)"
   ]
  },
  {
   "cell_type": "code",
   "execution_count": null,
   "metadata": {},
   "outputs": [],
   "source": [
    "transpiled.depth()"
   ]
  },
  {
   "cell_type": "markdown",
   "metadata": {},
   "source": [
    "Qiskit is hardware agnostic!"
   ]
  },
  {
   "cell_type": "code",
   "execution_count": null,
   "metadata": {},
   "outputs": [],
   "source": [
    "!pip install qiskit-ionq"
   ]
  },
  {
   "cell_type": "code",
   "execution_count": null,
   "metadata": {},
   "outputs": [],
   "source": [
    "from qiskit_ionq import IonQProvider\n",
    "provider = IonQProvider(<your token>)"
   ]
  },
  {
   "cell_type": "code",
   "execution_count": null,
   "metadata": {},
   "outputs": [],
   "source": [
    "[(b.name(), b.configuration().n_qubits) for b in provider.backends()]"
   ]
  },
  {
   "cell_type": "code",
   "execution_count": null,
   "metadata": {},
   "outputs": [],
   "source": [
    "circuit = QuantumCircuit(2)\n",
    "circuit.h(0)\n",
    "circuit.cx(0, 1)\n",
    "circuit.measure_all()\n",
    "circuit.draw()"
   ]
  },
  {
   "cell_type": "code",
   "execution_count": null,
   "metadata": {},
   "outputs": [],
   "source": [
    "backend = provider.get_backend(\"ionq_qpu\")\n",
    "job = backend.run(circuit)"
   ]
  },
  {
   "cell_type": "code",
   "execution_count": null,
   "metadata": {},
   "outputs": [],
   "source": [
    "plot_histogram()"
   ]
  },
  {
   "cell_type": "code",
   "execution_count": null,
   "metadata": {},
   "outputs": [],
   "source": [
    "job.get_counts()"
   ]
  },
  {
   "cell_type": "code",
   "execution_count": null,
   "metadata": {},
   "outputs": [],
   "source": [
    "plot_histogram(job.get_counts())"
   ]
  },
  {
   "cell_type": "markdown",
   "metadata": {},
   "source": [
    "## 4. Running Circuits and Applications"
   ]
  },
  {
   "cell_type": "markdown",
   "metadata": {},
   "source": [
    "### Algorithms\n",
    "\n",
    "Now let's talk about algorithms. In this section we will have a look at Terra’s application-agnostic algorithms. We will explore the module [`qiskit.algorithms`](https://qiskit.org/documentation/apidoc/algorithms.html)"
   ]
  },
  {
   "cell_type": "markdown",
   "metadata": {},
   "source": [
    "It contains a collection of quantum algorithms, for use with quantum computers, to carry out research and investigate how to solve problems in different domains on near-term quantum devices with short depth circuits.\n",
    "\n",
    "Algorithms configuration includes the use of `optimizers` which were designed to be swappable sub-parts of an algorithm. Any component and may be exchanged for a different implementation of the same component type in order to potentially alter the behavior and outcome of the algorithm.\n",
    "\n",
    "Quantum algorithms are run via a `QuantumInstance` which must be set with the desired backend where the algorithm’s circuits will be executed and be configured with a number of compile and runtime parameters controlling circuit compilation and execution. It ultimately uses Terra for the actual compilation and execution of the quantum circuits created by the algorithm and its components.\n",
    "\n",
    "##### How is the algorithm library structured?\n",
    "\n",
    "Qiskit provides a number of Algorithms https://qiskit.org/documentation/apidoc/algorithms.html and they are grouped by category according to the task they can perform. For instance``Minimum Eigensolvers`` to find the smallest eigen value of an operator, for example ground state energy of a chemistry Hamiltonian or a solution to an optimization problem when expressed as an Ising Hamiltonian. There are ``Linear Solvers`` for linear systems of equations problems and ``Amplitude Estimators`` for value estimation that can be used say in financial applications. The full set of categories can be seen in the Algorithms documentation link above.\n",
    "\n",
    "Algorithms are configurable and often part of the configuration will be in the form of smaller building blocks, of which different instances of the building block type can be given. For instance with ``VQE``, the Variational Quantum Eigensolver, it takes a trial wavefunction, in the form of a ``QuantumCircuit`` and a classical optimizer among other things."
   ]
  },
  {
   "cell_type": "markdown",
   "metadata": {},
   "source": [
    "##### How to run an algorithm?"
   ]
  },
  {
   "cell_type": "markdown",
   "metadata": {},
   "source": [
    "We will see 2 of them here and encourage you to have a look at the rest of them."
   ]
  },
  {
   "cell_type": "markdown",
   "metadata": {},
   "source": [
    "In order to run an algorithm we need to have backend, a simulator or real device, on which the circuits that comprise the algorithm can be run. So for example we can use the ``aer_simulator_statevector`` from the ``Aer provider``.  "
   ]
  },
  {
   "cell_type": "code",
   "execution_count": null,
   "metadata": {},
   "outputs": [],
   "source": [
    "from qiskit import Aer\n",
    "\n",
    "backend = Aer.get_backend('aer_simulator_statevector')"
   ]
  },
  {
   "cell_type": "markdown",
   "metadata": {},
   "source": [
    "Now a backend on its own does not have information on how you might want to run the circuits etc. For example how many shots, do you want a noise model, even options around transpiling the circuits. For this Qiskit Terra has a QuantumInstance which is provided both the backend as well as various settings around the circuit processing and execution so for instance:"
   ]
  },
  {
   "cell_type": "code",
   "execution_count": null,
   "metadata": {},
   "outputs": [],
   "source": [
    "from qiskit.utils import QuantumInstance\n",
    "\n",
    "backend = Aer.get_backend('aer_simulator')\n",
    "quantum_instance = QuantumInstance(backend=backend, shots=800, seed_simulator=99)"
   ]
  },
  {
   "cell_type": "markdown",
   "metadata": {},
   "source": [
    "So now we would be able to call the algorithm (``compute_mininum_eigenvalue() ``for example if the algorithm is VQE ) method. The latter is the interface of choice for the application modules, such as Nature and Optimization, in order that they can work interchangeably with any algorithm within the specific category."
   ]
  },
  {
   "cell_type": "markdown",
   "metadata": {},
   "source": [
    "#### Minimum Eigensolvers: VQE"
   ]
  },
  {
   "cell_type": "markdown",
   "metadata": {},
   "source": [
    " For instance with VQE, the Variational Quantum Eigensolver, it takes a trial wavefunction, in the form of a QuantumCircuit and a classical optimizer among other things.\n",
    "\n",
    "Let’s take a look at an example to construct a VQE instance. Here TwoLocal is the variational form (trial wavefunction), a parameterized circuit which can be varied, and SLSQP a classical optimizer. These are created as separate instances and passed to VQE when it is constructed. Trying, for example, a different classical optimizer, or variational form is simply a case of creating an instance of the one you want and passing it into VQE."
   ]
  },
  {
   "cell_type": "code",
   "execution_count": null,
   "metadata": {},
   "outputs": [],
   "source": [
    "from qiskit.algorithms import VQE\n",
    "from qiskit.algorithms.optimizers import SLSQP\n",
    "from qiskit.circuit.library import TwoLocal\n",
    "\n",
    "num_qubits = 2\n",
    "ansatz = TwoLocal(num_qubits, 'ry', 'cz')\n",
    "opt = SLSQP(maxiter=1000)\n",
    "vqe = VQE(ansatz, optimizer=opt)"
   ]
  },
  {
   "cell_type": "markdown",
   "metadata": {},
   "source": [
    "##### A complete working example"
   ]
  },
  {
   "cell_type": "markdown",
   "metadata": {},
   "source": [
    "Let’s put what we have learned from above together and create a complete working example. VQE will find the minimum eigenvalue, i.e. minimum energy value of a Hamiltonian operator and hence we need such an operator for VQE to work with. Such an operator is given below. This was originally created by the Nature application module as the Hamiltonian for an H2 molecule at 0.735A interatomic distance. It’s a sum of Pauli terms as below, but for now I am not going to say anything further about it since the goal is to run the algorithm, but further information on operators can be found in other tutorials."
   ]
  },
  {
   "cell_type": "code",
   "execution_count": null,
   "metadata": {},
   "outputs": [],
   "source": [
    "from qiskit.opflow import X, Z, I\n",
    "\n",
    "H2_op = (-1.052373245772859 * I ^ I) + \\\n",
    "        (0.39793742484318045 * I ^ Z) + \\\n",
    "        (-0.39793742484318045 * Z ^ I) + \\\n",
    "        (-0.01128010425623538 * Z ^ Z) + \\\n",
    "        (0.18093119978423156 * X ^ X)"
   ]
  },
  {
   "cell_type": "markdown",
   "metadata": {},
   "source": [
    "So let’s build a VQE instance passing a backend using a QuantumInstance, to the constructor. Now VQE does have setters so the QuantumInstance can also be passed later.\n",
    "\n",
    "Note: In order that you can run this notebook and see the exact same output the random number generator used throughout algorithms in algorithms_globals, as well as the transpiler and simulator, via the QuantumInstance, are seeded. You do not have to do this but if want to be able to reproduce the exact same outcome each time then this is how it’s done.\n",
    "\n",
    "So let’s run VQE and print the result object it returns."
   ]
  },
  {
   "cell_type": "code",
   "execution_count": null,
   "metadata": {},
   "outputs": [],
   "source": [
    "from qiskit.utils import algorithm_globals\n",
    "seed = 50\n",
    "algorithm_globals.random_seed = seed\n",
    "qi = QuantumInstance(Aer.get_backend('statevector_simulator'), seed_transpiler=seed, seed_simulator=seed)\n",
    "\n",
    "ansatz = TwoLocal(rotation_blocks='ry', entanglement_blocks='cz')\n",
    "slsqp = SLSQP(maxiter=1000)\n",
    "vqe = VQE(ansatz, optimizer=slsqp, quantum_instance=qi)\n",
    "result = vqe.compute_minimum_eigenvalue(H2_op)\n",
    "print(result)"
   ]
  },
  {
   "cell_type": "markdown",
   "metadata": {},
   "source": [
    "From the above result we can see it took the optimizer 65 evaluations of parameter values until it found the minimum eigenvalue of -1.85727 which is the electronic ground state energy of the given H2 molecule. The optimal parameters of the ansatz can also be seen which are the values that were in the ansatz at the minimum value."
   ]
  },
  {
   "cell_type": "markdown",
   "metadata": {},
   "source": [
    "To close off let’s also create a VQE instance without supplying the QuantumInstance. We later set it as long as by the time VQE runs it has a QuantumInstance to use."
   ]
  },
  {
   "cell_type": "code",
   "execution_count": null,
   "metadata": {},
   "outputs": [],
   "source": [
    "algorithm_globals.random_seed = seed\n",
    "qi = QuantumInstance(Aer.get_backend('aer_simulator_statevector'), seed_transpiler=seed, seed_simulator=seed)\n",
    "\n",
    "ansatz = TwoLocal(rotation_blocks='ry', entanglement_blocks='cz')\n",
    "slsqp = SLSQP(maxiter=1000)\n",
    "vqe = VQE(ansatz, optimizer=slsqp)\n",
    "\n",
    "vqe.quantum_instance = qi\n",
    "result = vqe.compute_minimum_eigenvalue(operator=H2_op)\n",
    "print(result)"
   ]
  },
  {
   "cell_type": "markdown",
   "metadata": {},
   "source": [
    "As the identical seeding was used as the prior example the result can be seen to be the same.\n",
    "\n",
    "This concludes this introduction to algorithms in Qiskit. Please check out the other algorithm tutorials in this series for both broader as well as more in depth coverage of the algorithms."
   ]
  },
  {
   "cell_type": "markdown",
   "metadata": {},
   "source": [
    "#### Amplitude Amplifiers: Grover"
   ]
  },
  {
   "cell_type": "code",
   "execution_count": null,
   "metadata": {},
   "outputs": [],
   "source": [
    "from qiskit.quantum_info import Statevector\n",
    "from qiskit.algorithms import AmplificationProblem\n",
    "\n",
    "# the state we desire to find\n",
    "good_state = ['10110']\n",
    "\n",
    "# specify the oracle that marks the state '11' as a good solution\n",
    "oracle = Statevector.from_label('10110')\n",
    "\n",
    "# define Grover's algorithm\n",
    "problem = AmplificationProblem(oracle, is_good_state=good_state)\n",
    "\n",
    "# now we can have a look at the Grover operator that is used in running the algorithm\n",
    "problem.grover_operator.decompose().draw()"
   ]
  },
  {
   "cell_type": "code",
   "execution_count": null,
   "metadata": {},
   "outputs": [],
   "source": [
    "from qiskit import Aer\n",
    "from qiskit.utils import QuantumInstance\n",
    "from qiskit.algorithms import Grover\n",
    "\n",
    "sim = Aer.get_backend('aer_simulator')\n",
    "grover = Grover(quantum_instance=sim)\n",
    "result = grover.amplify(problem)\n",
    "\n",
    "print('Success!' if result.oracle_evaluation else 'Failure!')\n",
    "print('Top measurement:', result.top_measurement)"
   ]
  },
  {
   "cell_type": "code",
   "execution_count": null,
   "metadata": {},
   "outputs": [],
   "source": [
    "plot_histogram(result.circuit_results)"
   ]
  },
  {
   "cell_type": "code",
   "execution_count": null,
   "metadata": {},
   "outputs": [],
   "source": [
    "# iterations\n",
    "\n",
    "grover = Grover(quantum_instance=sim, iterations=3)\n",
    "result = grover.amplify(problem)\n",
    "plot_histogram(result.circuit_results)"
   ]
  },
  {
   "cell_type": "code",
   "execution_count": null,
   "metadata": {},
   "outputs": [],
   "source": [
    "import qiskit.tools.jupyter\n",
    "%qiskit_version_table\n",
    "%qiskit_copyright"
   ]
  }
 ],
 "metadata": {
  "colab": {
   "collapsed_sections": [
    "7d_uf8JI12oJ",
    "Li9fj6uVzyFR",
    "9PBnSGwum9ZJ",
    "s0UwnaaJQkqa",
    "YqAqumfLri_P",
    "yWcE6S_Qp61P",
    "yhGcFXBa4aEM",
    "ZocPglAL6zRm",
    "58JawO_lFBGY",
    "iTzbCQzm67Uw",
    "EQ8dJq6v7NW-"
   ],
   "name": "Workshop.ipynb",
   "provenance": []
  },
  "kernelspec": {
   "display_name": "Python 3 (ipykernel)",
   "language": "python",
   "name": "python3"
  },
  "language_info": {
   "codemirror_mode": {
    "name": "ipython",
    "version": 3
   },
   "file_extension": ".py",
   "mimetype": "text/x-python",
   "name": "python",
   "nbconvert_exporter": "python",
   "pygments_lexer": "ipython3"
  }
 },
 "nbformat": 4,
 "nbformat_minor": 1
}
