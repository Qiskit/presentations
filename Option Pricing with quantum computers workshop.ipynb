{
 "cells": [
  {
   "cell_type": "markdown",
   "id": "be8a31f3",
   "metadata": {},
   "source": [
    "# European Call Option Pricing using Quantum Computers\n",
    "\n",
    "Qiskit tutorial showing European Call Option Pricing + Spin-echo Optimization\n",
    "\n",
    "This tutorial follows the methodology described in <a href=\"https://quantum-journal.org/papers/q-2020-07-06-291/\">Option Pricing using Quantum Computers. Stamatopoulos et al. 2019.</a> to price European Call Options on a gate-based quantum computer. \n",
    "\n",
    "We use Amplitude Estimation (AE), an algorithm which provides a quadratic speedup compared to classical Monte Carlo methods. We put an emphasis on the implementation of the quantum circuits required to build the input states and operators needed by amplitude estimation to price the European call options.\n",
    "\n",
    "1. First, we show simulation results to highlight how the circuit that we implement prices the options.\n",
    "\n",
    "2. Then we simplify the circuit using the spin-echo optimization described in - <a href=\"https://arxiv.org/abs/2005.07711\">Efficient State Preparation for Quantum Amplitude Estimation.\n",
    "Almudena Carrera Vazquez, Stefan Woerner. 2020.</a>  to reduce the number of gates while keeping the same results (simulation only).\n",
    "\n",
    "3. Finally, we examine the performance of the option pricing circuits on quantum hardware using the IBM Q Mumbai quantum device. We employ an error mitigation scheme that allows us to significantly reduce the errors arising from noisy two-qubit gates.\n",
    "\n",
    "\n",
    "\n",
    "\n",
    "\n"
   ]
  },
  {
   "cell_type": "markdown",
   "id": "5590f3a3",
   "metadata": {},
   "source": [
    "## 1. Simulation results"
   ]
  },
  {
   "cell_type": "markdown",
   "id": "eb8d2c05",
   "metadata": {},
   "source": [
    "<br>\n",
    "Suppose a <a href=\"http://www.theoptionsguide.com/call-option.aspx\">European call option</a> with strike price $K$ and an underlying asset whose spot price at maturity $S_T$ follows a given random distribution.\n",
    "The corresponding payoff function is defined as:\n",
    "\n",
    "$$f(S_T)=\\max\\{S_T - K, 0\\}$$\n",
    "\n",
    "We will use a quantum algorithm based on amplitude estimation is used to estimate the expected payoff for the option:\n",
    "\n",
    "$$\\mathbb{E}\\left[ \\max\\{S_T - K, 0\\} \\right]$$"
   ]
  },
  {
   "cell_type": "markdown",
   "id": "5037e0d3",
   "metadata": {},
   "source": [
    "### Distribution Loading\n",
    "\n",
    "The first component of our option pricing model is the circuit that takes a probability distribution implied for possible asset prices in the future and loads it into a quantum register such that each basis state represents a possible value and its amplitude the corresponding probability. \n",
    "\n",
    "We construct a circuit factory to load a log-normal random distribution into a quantum state.\n",
    "The distribution is truncated to a given interval $[low, high]$ and discretized using $2^n$ grid points, where $n$ denotes the number of qubits used.\n",
    "The unitary operator corresponding to the circuit factory implements the following: \n",
    "\n",
    "$$\\big|0\\rangle_{n} \\mapsto \\big|\\psi\\rangle_{n} = \\sum_{i=0}^{2^n-1} \\sqrt{p_i}\\big|i\\rangle_{n},$$\n",
    "\n",
    "where $p_i$ denote the probabilities corresponding to the truncated and discretized distribution and where $i$ is mapped to the right interval using the affine map:\n",
    "\n",
    "$$ \\{0, \\ldots, 2^n-1\\} \\ni i \\mapsto \\frac{high - low}{2^n - 1} * i + low \\in [low, high].$$"
   ]
  },
  {
   "cell_type": "markdown",
   "id": "a754b3ca",
   "metadata": {},
   "source": [
    "To examine the behavior of the circuit for different input probability distributions, we run eight experiments that differ by the initial spot price $S_0$ and all other parameters are kept constant. The spot price is varied from $1.8$ to $2.5$ in increments of $0.1$. This way we can use the same circuit for all experiments and only vary the Y-rotation angles used to map the initial probability distribution onto the qubit register. This choice of input parameters allows us to evaluate our circuits for expected option prices in the range $[0.0754,0.7338]$. "
   ]
  },
  {
   "cell_type": "markdown",
   "id": "f122b072",
   "metadata": {},
   "source": [
    "We first compute the probability distribution for each initial spot price. For this tutorial we will do the case $S_0=2$. \n",
    "\n",
    " <font color='green'>Exercise: Choose another initial spot price [1.8, 1.9, 2.1, 2.2, 2.3, 2.4, 2.5] and see how the results change. </font>"
   ]
  },
  {
   "cell_type": "code",
   "execution_count": 1,
   "id": "55b85bf2",
   "metadata": {},
   "outputs": [],
   "source": [
    "import matplotlib.pyplot as plt\n",
    "%matplotlib inline\n",
    "import numpy as np\n",
    "from qiskit_finance.circuit.library import LogNormalDistribution\n",
    "\n",
    "# number of qubits to represent the uncertainty\n",
    "num_uncertainty_qubits = 2\n",
    "\n",
    "# parameters for considered random distribution\n",
    "S = 2.0  # initial spot price\n",
    "vol = 0.4  # volatility of 40%\n",
    "r = 0.05  # annual interest rate of 4%\n",
    "T = 40 / 365  # 40 days to maturity\n",
    "\n",
    "# resulting parameters for log-normal distribution\n",
    "mu = (r - 0.5 * vol ** 2) * T + np.log(S)\n",
    "sigma = vol * np.sqrt(T)\n",
    "mean = np.exp(mu + sigma ** 2 / 2)\n",
    "variance = (np.exp(sigma ** 2) - 1) * np.exp(2 * mu + sigma ** 2)\n",
    "stddev = np.sqrt(variance)\n",
    "\n",
    "# lowest and highest value considered for the spot price; in between, an equidistant discretization is considered.\n",
    "low = np.maximum(0, mean - 3 * stddev)\n",
    "high = mean + 3 * stddev\n",
    "\n",
    "# construct A operator for QAE for the payoff function by\n",
    "# composing the uncertainty model and the objective\n",
    "uncertainty_model = LogNormalDistribution(num_uncertainty_qubits, mu=mu, sigma=sigma ** 2, bounds=(low, high))"
   ]
  },
  {
   "cell_type": "code",
   "execution_count": 2,
   "id": "e64d0bd8",
   "metadata": {},
   "outputs": [
    {
     "data": {
      "image/png": "[encoded data removed]",
      "text/plain": [
       "<Figure size 432x288 with 1 Axes>"
      ]
     },
     "metadata": {
      "needs_background": "light"
     },
     "output_type": "display_data"
    }
   ],
   "source": [
    "# plot probability distribution\n",
    "x = uncertainty_model.values\n",
    "y = uncertainty_model.probabilities\n",
    "plt.bar(x, y, width=0.2)\n",
    "plt.xticks(x, size=15, rotation=90)\n",
    "plt.yticks(size=15)\n",
    "plt.grid()\n",
    "plt.xlabel(\"Spot Price at Maturity $S_T$ (\\$)\", size=15)\n",
    "plt.ylabel(\"Probability ($\\%$)\", size=15)\n",
    "plt.show()"
   ]
  },
  {
   "cell_type": "code",
   "execution_count": 3,
   "id": "4b7995f6",
   "metadata": {},
   "outputs": [
    {
     "name": "stdout",
     "output_type": "stream",
     "text": [
      "For intitial spot price 2.0 these are the values and probability distributions:\n",
      "Value 1.208607238741425 Probability 0.10573576926547217 %\n",
      "Value 1.743528401859603 Probability 55.432593115910755 %\n",
      "Value 2.2784495649777803 Probability 42.51986173075732 %\n",
      "Value 2.813370728095958 Probability 1.9418093840664512 %\n"
     ]
    }
   ],
   "source": [
    "print(\"For intitial spot price\", S, \"these are the values and probability distributions:\")\n",
    "for i in 0,1,2,3:\n",
    "    print(\"Value\", x[i], \"Probability\", y[i]*100, \"%\")\n",
    "   "
   ]
  },
  {
   "cell_type": "markdown",
   "id": "0fb2073a",
   "metadata": {},
   "source": [
    "### Payoff Function\n",
    "\n",
    "\n"
   ]
  },
  {
   "cell_type": "markdown",
   "id": "94338d0b",
   "metadata": {},
   "source": [
    "\n",
    "The payoff function equals zero as long as the spot price at maturity $S_T$ is less than the strike price $K$ and then increases linearly. The implementation uses a comparator, that flips an ancilla qubit from |0⟩ to |1⟩ if $S_T \\geqslant K $, and this ancilla is used to control the linear part of the payoff function.\n",
    "\n",
    "The linear part itself is then approximated as follows. We exploit the fact that $sin^2(y+\\pi/4)\\approx y + 1/2$ for small |y|. Thus, for a given approximation rescaling factor $c_{approx}$ ∈[0,1] and $x∈[0,1]$ we consider\n",
    "$$ sin^2(\\pi/2*c_{approx}*(x-1/2)+\\pi/4)\\approx \\pi/2*c_{approx}*(x-1/2) + 1/2 $$ \n",
    "\n",
    "for small $c_{approx}$.\n",
    "\n",
    "We can easily construct an operator that acts as \n",
    "\n",
    "$$ |x⟩|0⟩ \\mapsto |x⟩cos(a*x+b)|0⟩+sin(a*x+b)|1⟩ $$\n",
    "\n",
    "using controlled Y-rotations.\n",
    "\n",
    "Eventually, we are interested in the probability of measuring |1⟩ in the last qubit, which corresponds to $sin^2(a*x+b)$. Together with the approximation above, this allows to approximate the values of interest. The smaller we choose $c_{approx}$, the better the approximation. However, since we are then estimating a property scaled by \n",
    "$c_{approx}$, the number of evaluation qubits $m$ needs to be adjusted accordingly.\n",
    "\n",
    "For more details on the approximation, we refer to: - <a href=\"https://www.nature.com/articles/s41534-019-0130-6\">Quantum Risk Analysis. Woerner, Egger. 2018.</a> \n",
    "\n"
   ]
  },
  {
   "cell_type": "code",
   "execution_count": 4,
   "id": "66908fd9",
   "metadata": {},
   "outputs": [
    {
     "data": {
      "image/png": "[encoded data removed]",
      "text/plain": [
       "<Figure size 432x288 with 1 Axes>"
      ]
     },
     "metadata": {
      "needs_background": "light"
     },
     "output_type": "display_data"
    }
   ],
   "source": [
    "# set the strike price (should be within the low and the high value of the uncertainty)\n",
    "strike_price =  1.74\n",
    "\n",
    "# plot exact payoff function (evaluated on the grid of the uncertainty model)\n",
    "x = uncertainty_model.values\n",
    "y = np.maximum(0, x - strike_price)\n",
    "plt.plot(x, y, \"ro-\")\n",
    "plt.grid()\n",
    "plt.title(\"Payoff Function\", size=15)\n",
    "plt.xlabel(\"Spot Price\", size=15)\n",
    "plt.ylabel(\"Payoff\", size=15)\n",
    "plt.xticks(x, size=15, rotation=90)\n",
    "plt.yticks(size=15)\n",
    "plt.show()"
   ]
  },
  {
   "cell_type": "code",
   "execution_count": 5,
   "id": "d4340272",
   "metadata": {},
   "outputs": [
    {
     "name": "stdout",
     "output_type": "stream",
     "text": [
      "exact expected value:\t0.2517\n"
     ]
    }
   ],
   "source": [
    "# evaluate exact expected value (normalized to the [0, 1] interval)\n",
    "exact_value = np.dot(uncertainty_model.probabilities, y)\n",
    "print(\"exact expected value:\\t%.4f\" % exact_value)"
   ]
  },
  {
   "cell_type": "markdown",
   "id": "4509e56b",
   "metadata": {},
   "source": [
    "### Evaluate Expected Payoff"
   ]
  },
  {
   "cell_type": "markdown",
   "id": "8dd89cef",
   "metadata": {},
   "source": [
    "Qiskit’s finance module offers the EuropeanCallPricing circuit."
   ]
  },
  {
   "cell_type": "code",
   "execution_count": 6,
   "id": "78ce612c",
   "metadata": {},
   "outputs": [],
   "source": [
    "from qiskit_finance.applications.estimation import EuropeanCallPricing\n",
    "\n",
    "# set the approximation scaling for the payoff function\n",
    "c_approx = 0.25\n",
    "\n",
    "#dedicated implementation of the estimation problem to the problem applied to european call pricing\n",
    "european_call_pricing = EuropeanCallPricing(\n",
    "    num_state_qubits=num_uncertainty_qubits,\n",
    "    strike_price=strike_price,\n",
    "    rescaling_factor=c_approx,\n",
    "    bounds=(low, high),\n",
    "    uncertainty_model=uncertainty_model,\n",
    ")"
   ]
  },
  {
   "cell_type": "code",
   "execution_count": 7,
   "id": "1e1c2100",
   "metadata": {},
   "outputs": [
    {
     "name": "stdout",
     "output_type": "stream",
     "text": [
      "Exact value:        \t0.2517\n",
      "Estimated value:    \t0.2583\n",
      "Confidence interval:\t[0.2379, 0.2787]\n"
     ]
    }
   ],
   "source": [
    "from qiskit.utils import QuantumInstance\n",
    "from qiskit import Aer\n",
    "from qiskit.algorithms import MaximumLikelihoodAmplitudeEstimation, EstimationProblem\n",
    "\n",
    "# set confidence level\n",
    "alpha = 0.05\n",
    "\n",
    "qi = QuantumInstance(Aer.get_backend(\"aer_simulator\"), shots=100)\n",
    "problem = european_call_pricing.to_estimation_problem()\n",
    "# construct amplitude estimation\n",
    "ae = MaximumLikelihoodAmplitudeEstimation(evaluation_schedule=[0,1,2,3,4], quantum_instance=qi)\n",
    "result = ae.estimate(problem)\n",
    "\n",
    "conf_int=ae.compute_confidence_interval(result, alpha)\n",
    "print(\"Exact value:        \\t%.4f\" % exact_value)\n",
    "print(\"Estimated value:    \\t%.4f\" % (european_call_pricing.interpret(result)))\n",
    "print(\"Confidence interval:\\t[%.4f, %.4f]\" % tuple(conf_int))"
   ]
  },
  {
   "cell_type": "markdown",
   "id": "36399785",
   "metadata": {},
   "source": [
    "### Algorithm deep dive\n",
    "\n",
    "Let's now construct the corresponding circuits to the algorithm."
   ]
  },
  {
   "cell_type": "markdown",
   "id": "155db7f8",
   "metadata": {},
   "source": [
    "#### Circuit for $A |0\\rangle_3 $  (*k*=0)\n",
    "\n",
    "The circuit implementing $A$ is constructed in the following way: First we use isometry to load the probability distribution as intial state, and then we use the required gates to evaluate the pay-off function\n"
   ]
  },
  {
   "cell_type": "code",
   "execution_count": 8,
   "id": "079972c0",
   "metadata": {},
   "outputs": [
    {
     "data": {
      "text/plain": [
       "<qiskit.circuit.instructionset.InstructionSet at 0x7f843b33ae00>"
      ]
     },
     "execution_count": 8,
     "metadata": {},
     "output_type": "execute_result"
    }
   ],
   "source": [
    "from qiskit import QuantumCircuit\n",
    "# Use isometry instruction to set initial state\n",
    "qc = QuantumCircuit(2)\n",
    "qc.isometry(np.sqrt(uncertainty_model.probabilities), q_input=[], q_ancillas_for_output=[0,1], q_ancillas_zero=None, q_ancillas_dirty=None)"
   ]
  },
  {
   "cell_type": "markdown",
   "id": "92c886e1",
   "metadata": {},
   "source": [
    "To encode the payoff function, we apply a uniformly controlled Y-rotation. In this case, this operation can be efficiently implemented using 4 CNOT gates and 4 single-qubit Y-rotations. For optimization purposes, we drop the very last CNOT gate and apply it in a classical postprocessing."
   ]
  },
  {
   "cell_type": "code",
   "execution_count": 9,
   "id": "fe0f853d",
   "metadata": {},
   "outputs": [
    {
     "data": {
      "image/png": "[encoded data removed]",
      "text/plain": [
       "<Figure size 989.597x264.88 with 1 Axes>"
      ]
     },
     "execution_count": 9,
     "metadata": {},
     "output_type": "execute_result"
    }
   ],
   "source": [
    "#Let's build the circuit A|0>\n",
    "circ1 = QuantumCircuit(3,3)\n",
    "circ1.append(qc, qargs=[0,1])\n",
    "circ1.barrier()\n",
    "circ1.ry(1.47,2)\n",
    "circ1.cx(0,2)\n",
    "circ1.ry(-0.10,2)\n",
    "circ1.cx(1,2)\n",
    "circ1.ry(0.10,2)\n",
    "circ1.cx(0,2)\n",
    "circ1.ry(-0.29,2)\n",
    "#circ1.cx(1,2)\n",
    "circ1.barrier()\n",
    "circ1.measure(range(3), range(3))\n",
    "circ1.draw('mpl')"
   ]
  },
  {
   "cell_type": "markdown",
   "id": "44659fc3",
   "metadata": {},
   "source": [
    "#### Circuit for $Q A |0\\rangle_3 $ (*k*=1) "
   ]
  },
  {
   "cell_type": "markdown",
   "id": "10e598b1",
   "metadata": {},
   "source": [
    "We have that $Q=-AS_0A^{\\dagger}S_{\\psi_0}$, where $S_0=1-2|0\\rangle \\langle0|$ and $S_{\\psi_0}=1-2|\\psi_0\\rangle|0\\rangle \\langle\\psi_0|\\langle0|$. $S_{\\psi_0}$ can be implemented up to a global phase using a single-qubit Z-gate on the last qubit (which can be decomposed into a X-rotation and a Y-rotation). $S_0$ is a bit more difficult and we use circuit synthesis for diagonal unitary matrices to achieve an efficient decomposition into gates."
   ]
  },
  {
   "cell_type": "code",
   "execution_count": 10,
   "id": "eaaefae0",
   "metadata": {},
   "outputs": [
    {
     "data": {
      "image/png": "[encoded data removed]",
      "text/plain": [
       "<Figure size 1591.6x866.88 with 1 Axes>"
      ]
     },
     "execution_count": 10,
     "metadata": {},
     "output_type": "execute_result"
    }
   ],
   "source": [
    "#Let's build the circuit QA|0>\n",
    "circ2 = QuantumCircuit(3,3)\n",
    "circ2.append(qc, qargs=[0,1])\n",
    "circ2.barrier()\n",
    "circ2.ry(1.47,2)\n",
    "circ2.cx(0,2)\n",
    "circ2.ry(-9.8e-2,2)\n",
    "circ2.cx(1,2)\n",
    "circ2.ry(9.8e-2,2)\n",
    "circ2.cx(0,2)\n",
    "circ2.ry(-0.29,2)\n",
    "circ2.cx(1,2)\n",
    "circ2.barrier()\n",
    "circ2.rx(3.14,2)\n",
    "circ2.ry(-3.14,2)\n",
    "circ2.barrier()\n",
    "circ2.cx(1,2)\n",
    "circ2.ry(0.29,2)\n",
    "circ2.cx(0,2)\n",
    "circ2.ry(-9.8e-2,2)\n",
    "circ2.cx(1,2)\n",
    "circ2.ry(9.8e-2,2)\n",
    "circ2.cx(0,2)\n",
    "circ2.ry(-1.47,2)\n",
    "circ2.barrier()\n",
    "circ2.append(qc.inverse(), qargs=[0,1])\n",
    "circ2.barrier()\n",
    "circ2.rz(-0.79,0)\n",
    "circ2.cx(1,0)\n",
    "circ2.rz(-0.79,0)\n",
    "circ2.cx(2,0)\n",
    "circ2.rz(-0.79,0)\n",
    "circ2.cx(1,0)\n",
    "circ2.rz(-0.79,0)\n",
    "circ2.rz(-0.79,1)\n",
    "circ2.cx(2,0)\n",
    "circ2.cx(2,1)\n",
    "circ2.rz(-0.79,1)\n",
    "circ2.cx(2,1)\n",
    "circ2.rz(-0.79,2)\n",
    "circ2.barrier()\n",
    "circ2.append(qc, qargs=[0,1])\n",
    "circ2.barrier()\n",
    "circ2.ry(1.47,2)\n",
    "circ2.cx(0,2)\n",
    "circ2.ry(-9.8e-2,2)\n",
    "circ2.cx(1,2)\n",
    "circ2.ry(9.8e-2,2)\n",
    "circ2.cx(0,2)\n",
    "circ2.ry(-0.29,2)\n",
    "#circ2.cx(1,2)\n",
    "circ2.barrier()\n",
    "circ2.measure(range(3), range(3))\n",
    "circ2.draw('mpl')"
   ]
  },
  {
   "cell_type": "markdown",
   "id": "0c6901e1",
   "metadata": {},
   "source": [
    "Now that we have both circuits (k=0 and k=1), we perform repeated measurements of the circuit using qasm_simulator. Each experiment is evaluated on the qasm_simulator with 8192 shots."
   ]
  },
  {
   "cell_type": "code",
   "execution_count": 11,
   "id": "79ad5641",
   "metadata": {},
   "outputs": [
    {
     "name": "stdout",
     "output_type": "stream",
     "text": [
      "{'100': 1, '110': 1806, '001': 3131, '111': 51, '011': 113, '101': 1387, '000': 7, '010': 1696}\n"
     ]
    }
   ],
   "source": [
    "from qiskit import transpile\n",
    "\n",
    "# Use Aer's qasm_simulator\n",
    "backend_sim = Aer.get_backend('qasm_simulator')\n",
    "\n",
    "#Transpile circuit for simulator\n",
    "circ1_trans_sim = transpile(circ1, backend_sim, optimization_level=3)\n",
    "\n",
    "#Run experiment in the simulator\n",
    "job_sim1 = backend_sim.run(circ1_trans_sim, shots=8192)\n",
    "result_sim1 = job_sim1.result()\n",
    "counts_sim1= result_sim1.get_counts(circ1_trans_sim)\n",
    "print(counts_sim1)"
   ]
  },
  {
   "cell_type": "code",
   "execution_count": 12,
   "id": "cedb026a",
   "metadata": {},
   "outputs": [
    {
     "name": "stdout",
     "output_type": "stream",
     "text": [
      "{'111': 180, '011': 156, '101': 234, '001': 162, '110': 2235, '000': 5, '010': 5220}\n"
     ]
    }
   ],
   "source": [
    "#Transpile circuit for simulator\n",
    "circ2_trans_sim = transpile(circ2, backend_sim, optimization_level=3)\n",
    "\n",
    "#Run experiment in the simulator\n",
    "job_sim2 = backend_sim.run(circ2_trans_sim, shots=8192)\n",
    "result_sim2 = job_sim2.result()\n",
    "counts_sim2= result_sim2.get_counts(circ2_trans_sim)\n",
    "print(counts_sim2)"
   ]
  },
  {
   "cell_type": "markdown",
   "id": "3238632d",
   "metadata": {},
   "source": [
    "We will use these results later to compute the probability of the objective qubit being $|1 \\rangle$ "
   ]
  },
  {
   "cell_type": "markdown",
   "id": "f605fcb2",
   "metadata": {},
   "source": [
    "## 2. Spin-echo optimization"
   ]
  },
  {
   "cell_type": "markdown",
   "id": "6402eb1c",
   "metadata": {},
   "source": [
    "Now we apply the spin-echo optimization to the circuit $QA|0\\rangle$ in the uniformly controlled Y-rotation in A and $A^{\\dagger}$\n",
    "\n",
    "\n",
    "Suppose circuits of the form\n",
    "$$R_U (θ)V R_U (−θ)$$\n",
    "where U, V ∈ {X, Y, Z}, i.e., $R_U$ denotes a single-qubit Pauli rotation and V a single-qubit Pauli gate. In case U = V , the gates commute and the circuit equals V . In all other cases, it can easily be seen that\n",
    "$$ R_U (θ)V R_U (−θ) = R_U (2θ)V$$"
   ]
  },
  {
   "cell_type": "code",
   "execution_count": 13,
   "id": "57be7ac1",
   "metadata": {},
   "outputs": [
    {
     "data": {
      "image/png": "[encoded data removed]",
      "text/plain": [
       "<Figure size 1591.6x565.88 with 1 Axes>"
      ]
     },
     "execution_count": 13,
     "metadata": {},
     "output_type": "execute_result"
    }
   ],
   "source": [
    "#Optimized circuit\n",
    "circ3 = QuantumCircuit(3,3)\n",
    "circ3.append(qc, qargs=[0,1])\n",
    "circ3.barrier()\n",
    "circ3.ry(2*1.47,2)\n",
    "circ3.cx(0,2)\n",
    "circ3.ry(2*(-9.8e-2),2)\n",
    "circ3.cx(1,2)\n",
    "circ3.ry(2*(9.8e-2),2)\n",
    "circ3.cx(0,2)\n",
    "circ3.ry(2*(-0.29),2)\n",
    "circ3.cx(1,2)\n",
    "circ3.barrier()\n",
    "circ3.rx(3.14,2)\n",
    "circ3.ry(-3.14,2)\n",
    "circ3.barrier()\n",
    "circ3.append(qc.inverse(), qargs=[0,1])\n",
    "circ3.barrier()\n",
    "circ3.rz(-0.79,0)\n",
    "circ3.cx(1,0)\n",
    "circ3.rz(-0.79,0)\n",
    "circ3.cx(2,0)\n",
    "circ3.rz(-0.79,0)\n",
    "circ3.cx(1,0)\n",
    "circ3.rz(-0.79,0)\n",
    "circ3.rz(-0.79,1)\n",
    "circ3.cx(2,0)\n",
    "circ3.cx(2,1)\n",
    "circ3.rz(-0.79,1)\n",
    "circ3.cx(2,1)\n",
    "circ3.rz(-0.79,2)\n",
    "circ3.barrier()\n",
    "circ3.append(qc, qargs=[0,1])\n",
    "circ3.barrier()\n",
    "circ3.ry(1.47,2)\n",
    "circ3.cx(0,2)\n",
    "circ3.ry(-9.8e-2,2)\n",
    "circ3.cx(1,2)\n",
    "circ3.ry(9.8e-2,2)\n",
    "circ3.cx(0,2)\n",
    "circ3.ry(-0.29,2)\n",
    "#circ3.cx(1,2)\n",
    "circ3.barrier()\n",
    "circ3.measure(range(3), range(3))\n",
    "circ3.draw('mpl')"
   ]
  },
  {
   "cell_type": "code",
   "execution_count": 14,
   "id": "8bb16bf1",
   "metadata": {},
   "outputs": [
    {
     "name": "stdout",
     "output_type": "stream",
     "text": [
      "{'111': 180, '011': 184, '101': 222, '000': 7, '010': 5235, '100': 2, '001': 158, '110': 2204}\n"
     ]
    }
   ],
   "source": [
    "#Transpile circuit for simulator\n",
    "circ3_trans_sim = transpile(circ3, backend_sim, optimization_level=3)\n",
    "\n",
    "#Run experiment in the simulator\n",
    "job_sim3 = backend_sim.run(circ3_trans_sim, shots=8192)\n",
    "result_sim3 = job_sim3.result()\n",
    "counts_sim3= result_sim3.get_counts(circ3_trans_sim)\n",
    "print(counts_sim3)"
   ]
  },
  {
   "cell_type": "markdown",
   "id": "359aeb1e",
   "metadata": {},
   "source": [
    "Again, we will use these results later to compute the probability of the objective qubit being $|1 \\rangle$ "
   ]
  },
  {
   "cell_type": "markdown",
   "id": "da926f38",
   "metadata": {},
   "source": [
    "## 3. Quantum Hardware results"
   ]
  },
  {
   "cell_type": "markdown",
   "id": "d73a3599",
   "metadata": {},
   "source": [
    "We will now examine the performance of the option pricing circuits $A |0\\rangle_3 $ and $Q A |0\\rangle_3 $ on noisy quantum hardware using the following IBM Q quantum devices:\n",
    "\n",
    "IBMQ Bogota\n",
    "\n",
    "\n",
    "We employ an error mitigation scheme that allows us to significantly reduce the errors arising from noisy two-qubit gates. \n",
    "\n",
    "\n",
    "The results are affected by readout errors and errors that occur during the execution of the circuits. \n",
    "\n",
    "- To mitigate readout errors we run a calibration sequence in which we individually prepare and measure all eight basis states. The result is a 8 x 8 readout-matrix $ R $ that holds the probability of measuring each basis state as function of the basis state in which the system was prepared. We use $ R $ to correct all subsequent measurements. \n",
    "\n",
    "- Errors occuring during the quantum circuit can be mitigated using Richardson extrapolation. \n",
    "    - First, the quantum circuit is run using a rescaled Hamiltonian to amplify the effect of noise. Second, a Richardson extrapolation is used to extract the result of the quantum circuit at the zero noise limit.\n",
    "    - Since the single-qubit and CNOT gates have an average randomized benchmarking fidelity of 99.7% and 97.8% respectively, we restrict our error mitigation to the CNOT gates. Furthermore, because the optimized circuit for $A |0\\rangle_3 $ contains only 4 CNOT gates, we employ the error mitigation protocol only when evaluating $QA |0\\rangle_3 $, which consists of 15 CNOT gates (after spin-echo optimization).\n",
    "    - We run the circuit for $QA |0\\rangle_3 $ 3 times. In each run we replace the CNOT gates of the original circuit by one, three and five CNOT gates (first we have to add the required swap gates to map the circuit to the topology of the backend). Since a pair of perfect CNOT gates simplifies to the identity these extra gates allow us to amplify the error of the CNOT gate without having to stretch the gate duration, thus, avoiding the need to recalibrate the gate parameters. "
   ]
  },
  {
   "cell_type": "markdown",
   "id": "a2808e78",
   "metadata": {},
   "source": [
    "First let's explore IBMQ Bogota:"
   ]
  },
  {
   "cell_type": "code",
   "execution_count": null,
   "id": "3707984a",
   "metadata": {},
   "outputs": [],
   "source": [
    "from qiskit import IBMQ"
   ]
  },
  {
   "cell_type": "code",
   "execution_count": null,
   "id": "98ca0038",
   "metadata": {},
   "outputs": [],
   "source": [
    "IBMQ.save_account('INSERT YOUR TOKEN HERE', overwrite=True)\n",
    "provider = IBMQ.load_account()"
   ]
  },
  {
   "cell_type": "code",
   "execution_count": null,
   "id": "8223ac21",
   "metadata": {},
   "outputs": [],
   "source": [
    "provider.backends()"
   ]
  },
  {
   "cell_type": "code",
   "execution_count": null,
   "id": "e4125ca7",
   "metadata": {},
   "outputs": [],
   "source": [
    "from qiskit.visualization import plot_error_map\n",
    "backend = provider.get_backend('ibmq_bogota')\n",
    "plot_error_map(backend)"
   ]
  },
  {
   "cell_type": "markdown",
   "id": "63a33f71",
   "metadata": {},
   "source": [
    "#### Initial layout\n",
    "Quantum circuits are abstract entities whose qubits are “virtual” representations of actual qubits used in computations. We need to be able to map these virtual qubits in a one-to-one manner to the “physical” qubits in an actual quantum device. By default, qiskit will do this mapping for you. The choice of mapping depends on the properties of the circuit, the particular device you are targeting, and the optimization level that is chosen.\n",
    "\n",
    "The choice of initial layout is extremely important when:\n",
    "\n",
    "Computing the number of SWAP operations needed to map the input circuit onto the device topology.\n",
    "Taking into account the noise properties of the device.\n",
    "The choice of initial_layout can mean the difference between getting a result, and getting nothing but noise.\n",
    "\n",
    "In our experiment we will specify our own initial layout. To do so we can pass a list of integers to qiskit.compiler.transpile() via the initial_layout keyword argument, where the index labels the virtual qubit in the circuit and the corresponding value is the label for the physical qubit to map onto:"
   ]
  },
  {
   "cell_type": "markdown",
   "id": "4b4bf2a2",
   "metadata": {},
   "source": [
    "After analyzing first the CNOT error rate of every two connected qubits, their readout error rate of each qubit and their physical connectivity we decided to use Qubits 1, 2 and 3. "
   ]
  },
  {
   "cell_type": "markdown",
   "id": "3abe1df6",
   "metadata": {},
   "source": [
    "<font color='green'>Exercise: Choose another backend and pick the optimal initial layout. </font>"
   ]
  },
  {
   "cell_type": "code",
   "execution_count": null,
   "id": "fa7fa683",
   "metadata": {},
   "outputs": [],
   "source": [
    "from qiskit.visualization import plot_circuit_layout\n",
    "aux_circ1 = transpile(circ1, backend, initial_layout=[2, 1, 3]) \n",
    "#virtual qubits [q0, q1, q2] = [2, 1, 3] physical qubits\n",
    "#q0 virtual qubit with index 0 will be in position 2 of the chip\n",
    "\n",
    "plot_circuit_layout(aux_circ1, backend)"
   ]
  },
  {
   "cell_type": "markdown",
   "id": "69fcdd27",
   "metadata": {},
   "source": [
    "#### Mapping circuits to hardware topology\n",
    "\n",
    "In order to implement a CNOT gate between qubits in a quantum circuit that are not directly connected on a quantum device one or more SWAP gates must be inserted into the circuit to move the qubit states around until they are adjacent on the device gate map. Each SWAP gate is decomposed into three CNOT gates on the IBM Quantum devices, and represents an expensive and noisy operation to perform. Thus, finding the minimum number of SWAP gates needed to map a circuit onto a given device, is an important step (if not the most important) in the whole execution process.\n",
    "\n",
    "However, as with many important things in life, finding the optimal SWAP mapping is hard. In fact it is in a class of problems called NP-Hard, and is thus prohibitively expensive to compute for all but the smallest quantum devices and input circuits. To get around this, by default Qiskit uses a stochastic heuristic algorithm called Qiskit.transpiler.passes.StochasticSwap to compute a good, but not necessarily minimal SWAP count. The use of a stochastic method means the circuits generated by Qiskit.compiler.transpile() (or Qiskit.execute() that calls transpile internally) are not guaranteed to be the same over repeated runs. Indeed, running the same circuit repeatedly will in general result in a distribution of circuit depths and gate counts at the output.\n",
    "\n",
    "We will use the traspiler and set optimization_level=3 so that the the required SWAP gates are added and optimised.\n",
    "\n",
    " <font color='green'>Exercise: For circuit 1 add the SWAP gates manually. Compare your circuit to the transpiled one below </font>"
   ]
  },
  {
   "cell_type": "markdown",
   "id": "69e8a9b8",
   "metadata": {},
   "source": [
    "We run the circuit for $QA |0\\rangle_3 $ with SWAPS 3 times. In each run we replace the CNOT gates of the original circuit by one, three and five CNOT gates."
   ]
  },
  {
   "cell_type": "code",
   "execution_count": null,
   "id": "fd845a09",
   "metadata": {},
   "outputs": [],
   "source": [
    "#Transpile circuits for backend\n",
    "circ1_rh = transpile(circ1, backend, initial_layout=[1, 0, 2], optimization_level=3)\n",
    "circ2_rh = transpile(circ2, backend, initial_layout=[1, 0, 2], optimization_level=3)\n",
    "circ3_rh = transpile(circ3, backend, initial_layout=[1, 0, 2], optimization_level=3)"
   ]
  },
  {
   "cell_type": "markdown",
   "id": "2070d673",
   "metadata": {},
   "source": [
    " <font color='green'>Exercise: Build the circuits with 3 and 5 CNOTs </font>\n",
    " \n",
    " \n",
    "Note: We need to add barriers in between CNOTs because otherwise the transpiler will cancel them out."
   ]
  },
  {
   "cell_type": "code",
   "execution_count": null,
   "id": "ff1d2c94",
   "metadata": {},
   "outputs": [],
   "source": [
    "#Construct circuits with 3 CNOTs and 5 CNOTS \n",
    "\n",
    "def create_cx_circuit(qc, num_cx):\n",
    "    '''\n",
    "        qc: the quantum circuit\n",
    "        num_cx: replace each cnot by num_cx cnots\n",
    "    '''           \n",
    "    # Create all possible pairs of qubits\n",
    "    pairs = []\n",
    "    \n",
    "    #Add your code here\n",
    "    \n",
    "    # Replace the cnots in the qasm file\n",
    "    qasm_mult_cx = qc.qasm()\n",
    "    for pair in pairs:\n",
    "        \n",
    "        #Add your code here\n",
    "        \n",
    "    return QuantumCircuit().from_qasm_str(qasm_mult_cx)"
   ]
  },
  {
   "cell_type": "code",
   "execution_count": null,
   "id": "d3393eec",
   "metadata": {},
   "outputs": [],
   "source": [
    "#Run experiment in the backend (example with circ1_trans_rh)\n",
    "job_circ1 = backend.run(circ1_rh, shots=8192)\n",
    "result_circ1 = job_circ1.result()\n",
    "counts_circ1= result_circ1.get_counts(circ1_rh)"
   ]
  },
  {
   "cell_type": "markdown",
   "id": "b1bda60c",
   "metadata": {},
   "source": [
    "Once we have all the raw hardware results we apply readout error mitigation."
   ]
  },
  {
   "cell_type": "code",
   "execution_count": null,
   "id": "0479927e",
   "metadata": {},
   "outputs": [],
   "source": [
    "from qiskit import QuantumRegister\n",
    "from qiskit.utils.mitigation import complete_meas_cal\n",
    "# Generate the calibration circuits\n",
    "qr = QuantumRegister(5)\n",
    "qubit_list = [1, 0, 2]\n",
    "meas_calibs, state_labels = complete_meas_cal(qubit_list=qubit_list, qr=qr, circlabel='mcal')"
   ]
  },
  {
   "cell_type": "code",
   "execution_count": null,
   "id": "07e65761",
   "metadata": {},
   "outputs": [],
   "source": [
    "# Execute the calibration circuits\n",
    "job = backend.run(meas_calibs, shots=8192)\n",
    "cal_results = job.result()"
   ]
  },
  {
   "cell_type": "code",
   "execution_count": null,
   "id": "91daf031",
   "metadata": {},
   "outputs": [],
   "source": [
    "from qiskit.utils.mitigation import CompleteMeasFitter\n",
    "\n",
    "# Calculate the calibration matrix\n",
    "meas_fitter = CompleteMeasFitter(cal_results, state_labels, qubit_list=[1, 0, 2], circlabel='mcal')\n",
    "\n",
    "#Apply the calibration to all results\n",
    "meas_filter = meas_fitter.filter\n",
    "mitigated_counts_circ1= meas_filter.apply(counts_circ1)"
   ]
  },
  {
   "cell_type": "markdown",
   "id": "650a8760",
   "metadata": {},
   "source": [
    "Now that we have all results and they are mitigated we will apply the Richardson extrapolation.\n",
    "\n",
    "#### Richardson extrapolation with mitigated results "
   ]
  },
  {
   "cell_type": "code",
   "execution_count": null,
   "id": "f7ee49d5",
   "metadata": {},
   "outputs": [],
   "source": [
    "# Derive the dictionary without noise. rcs list with the number of shots I obtained for each state with 1, 3 and 5 cnots. \n",
    "#It can be considered as a function of the noise, I assume it’s quadratic.\n",
    "#I do a quadratic fit, I know f(1), f(3) and f(5) I derive f(0) which corresponds to the number of shots if there were no noise.\n",
    "\n",
    "from scipy.optimize import curve_fit\n",
    "def fit_quad(y):\n",
    "    \n",
    "    p0 = [0.49, 0.2715, -0.91]\n",
    "    \n",
    "    x = np.array([1, 3, 5])\n",
    "    \n",
    "    f = lambda t, a, b, c: a + b*t +c*t**2\n",
    "    a = curve_fit(f, x, y, p0, maxfev=10000)\n",
    "        \n",
    "    z = [ f(t, *(a[0])) for t in [0, 1, 3, 5]]\n",
    "    \n",
    "1    return z"
   ]
  },
  {
   "cell_type": "code",
   "execution_count": null,
   "id": "e5a7e9c2",
   "metadata": {},
   "outputs": [],
   "source": [
    "from itertools import product    \n",
    "bin_counts = [''.join(p) for p in product('10', repeat=3)] # List of binary strings\n",
    "\n",
    "for b in bin_counts:  #for each possible state\n",
    "        rcs = [0.0, 0.0, 0.0] #list which contains only elements\n",
    "        if b in mitigated_counts_rh3:\n",
    "            rcs[0] = float(mitigated_counts3[b]) \n",
    "        if b in mitigated_counts_rh3_3cnot:\n",
    "            rcs[1] = float(mitigated_counts3_3cnot[b])\n",
    "        if b in mitigated_counts_rh3_5cnot:\n",
    "            rcs[2] = float(mitigated_counts3_5cnot[b])\n",
    "   \n",
    "        zq = fit_quad(rcs) # Exponential\n",
    "        if zq[0] < 0: #for each element in b (the dictionary) the extrapolated value\n",
    "            zq[0] = 0\n",
    "        rich[b] = zq[0] #Create dictionary zq[0] corresponds to the extrapolated value for element b\n",
    "    "
   ]
  },
  {
   "cell_type": "markdown",
   "id": "64d0ed74",
   "metadata": {},
   "source": [
    "#### Expected value of the payoff function\n",
    "\n",
    "Finally now that we have applied these error mitigations techniques, we can compute the expected value of the payoff function with  the MLE. "
   ]
  },
  {
   "cell_type": "markdown",
   "id": "5b7655db",
   "metadata": {},
   "source": [
    "#### Probability that |1> is measured in the objective qubit 𝑞2, (states |001>, |101>, |011> and |111> )\n",
    "\n",
    "Two possibilities: \n",
    "\n",
    "- If we do not drop the last CNOT gate: Then the probability that |1> is measured in the objective qubit 𝑞2 is the probability of states |001>, |011>, |101> and |111>, that is, those that finish in 01 or 11 (in the same order Qiskit shows states). In our experiment {'000' position 0, '001' position 1, '010' position 2, '011' position 3, '100', position 4'101' position 5, '110'position 6 , '111' position 7}\n",
    "\n",
    "\n",
    "- If we drop the very last CNOT gate of the circuit and apply it in a classical post-processing:\n",
    "\n",
    "The CNOT gate is two-qubit operation, where the first qubit is usually referred to as the control qubit and the second qubit as the target qubit. Expressed in basis states, the CNOT gate:\n",
    "* leaves the control qubit unchanged and performs a Pauli-X gate on the target qubit when the control qubit is in state ∣1⟩\n",
    "* leaves the target qubit unchanged when the control qubit is in state ∣0⟩ ",
    "\n",
    "\n",
    "The CNOT applies to q1 and q2. In our case the second qubit is the control qubit and the third qubit is the target qubit. We just need to see what states result into 01 and 11 when applying a CNOT.\n",
    "\n",
    "The states we are interested in are therefore those that finish in 01 and 10. (If we apply the CNOT gate to any of those states we end up with states finishing in 01 or 11 as we wanted). Therefore I will measure the probability associated to states |001>, |010>, |110> and |101>.\n",
    "\n",
    "Taking into account the way Qiskit orders qubits, that is, |q2q1q0> the states |001>, |010>, |110> and |101> are actually |100>, |010>, |011> and |101>\n",
    "\n"
   ]
  },
  {
   "cell_type": "markdown",
   "id": "6bc7088e",
   "metadata": {},
   "source": [
    "##### List of results\n",
    "* Simulator, circuit 1\n",
    "* Simulator, circuit 2\n",
    "* Simulator, circuit 3 (Spin-echo)\n",
    "* Raw Real hardware, circuit 1\n",
    "* Raw Real hardware, circuit 3 (Spin-echo)\n",
    "* Raw Real hardware, circuit 3 (Spin-echo) with 3 CNOT gates\n",
    "* Raw Real hardware, circuit 3 (Spin-echo) with 5 CNOT gates\n",
    "* Mitigated Real hardware, circuit 1\n",
    "* Mitigated Real hardware, circuit 3 (Spin-echo)\n",
    "* Mitigated Real hardware, circuit 3 (Spin-echo) with 3 CNOT gates\n",
    "* Mitigated Real hardware, circuit 3 (Spin-echo) with 5 CNOT gates\n",
    "* Dictionary after Richardson extrapolation"
   ]
  },
  {
   "cell_type": "code",
   "execution_count": 15,
   "id": "8d7aa6e3",
   "metadata": {},
   "outputs": [
    {
     "name": "stdout",
     "output_type": "stream",
     "text": [
      "0.3902587890625\n"
     ]
    }
   ],
   "source": [
    "#Example on how to derive the probability\n",
    "p1_circ1=(counts_sim1.get(\"100\", 0)+\n",
    "          counts_sim1.get(\"010\", 0)+\n",
    "          counts_sim1.get(\"011\", 0)+\n",
    "          counts_sim1.get(\"101\", 0))/8192\n",
    "print(p1_circ1)"
   ]
  },
  {
   "cell_type": "code",
   "execution_count": 16,
   "id": "a453f785",
   "metadata": {},
   "outputs": [
    {
     "name": "stdout",
     "output_type": "stream",
     "text": [
      "0.684814453125\n"
     ]
    }
   ],
   "source": [
    "p1_circ2=(counts_sim2.get(\"100\", 0)+\n",
    "          counts_sim2.get(\"010\", 0)+\n",
    "          counts_sim2.get(\"011\", 0)+\n",
    "          counts_sim2.get(\"101\", 0))/8192\n",
    "print(p1_circ2)"
   ]
  },
  {
   "cell_type": "code",
   "execution_count": 17,
   "id": "2931f039",
   "metadata": {},
   "outputs": [
    {
     "name": "stdout",
     "output_type": "stream",
     "text": [
      "0.6888427734375\n"
     ]
    }
   ],
   "source": [
    "p1_circ3=(counts_sim3.get(\"100\", 0)\n",
    "          +counts_sim3.get(\"010\", 0)\n",
    "          +counts_sim3.get(\"011\", 0)\n",
    "          +counts_sim3.get(\"101\", 0))/8192\n",
    "print(p1_circ3)"
   ]
  },
  {
   "cell_type": "markdown",
   "id": "c94e11f8",
   "metadata": {},
   "source": [
    "To obtain the estimated value of the payoff function, we use the approximation \n",
    "\n",
    "$P_1 \\approx  c \\frac{2\\mathbb{E}\\left[ f(X) \\right]-f_{min}}{f_{max}-f_{min}}-c+\\frac{1}{2}$ \n",
    "\n",
    "where $P_1, c, f_{min}$ and $f_{max}$ are know values. \n"
   ]
  },
  {
   "cell_type": "code",
   "execution_count": 18,
   "id": "05b9080f",
   "metadata": {},
   "outputs": [],
   "source": [
    "c=0.25\n",
    "f_max=1.07\n",
    "f_min=0\n",
    "est_value1=((((f_max-f_min)*(p1_circ1+c-0.5))/c)+f_min)/2\n",
    "est_value3=((((f_max-f_min)*(p1_circ3+c-0.5))/c)+f_min)/2"
   ]
  },
  {
   "cell_type": "code",
   "execution_count": 19,
   "id": "526a73d9",
   "metadata": {},
   "outputs": [
    {
     "name": "stdout",
     "output_type": "stream",
     "text": [
      "0.30015380859375 0.93912353515625\n"
     ]
    }
   ],
   "source": [
    "print(est_value1, est_value3)"
   ]
  },
  {
   "cell_type": "markdown",
   "id": "26ef54d3",
   "metadata": {},
   "source": [
    "#### Maximum Likelihood Estimator for $\\theta_a$:   $\\hat{\\theta_a}$\n",
    "\n",
    "We combine the measured probabilities for all *k* (in our example *k=0* and *k*=1) in a single likelihood function, perform a maximum likelihood estimation for $\\theta_a$.\n",
    "\n",
    "We know that $\\mathbb{P}[q2=|1>]=\\sin^2((2k+1)\\theta_a)$. Let $h_i$ be the number of measurements where the objective qubit $q_2$ is $|1\\rangle$ for a certain $k_i$. We run the experiment 8192 times. Therefore the likelihood function representing this probabilistic event is given by:\n",
    "\n",
    "$$L_i(h_i;\\theta_a)=[sin^2((2k_i+1)\\theta_a)]^{h_i}[cos^2((2k_i+1)\\theta_a)]^{8192-h_i}$$\n",
    "\n"
   ]
  },
  {
   "cell_type": "markdown",
   "id": "19f23f91",
   "metadata": {},
   "source": [
    "We now have to combine the likelihood functions $L_i(h_i;\\theta_a)$ for several ${k_0, ..., k_M}$ (in our example $k_0=0$ and $k_1=1$ to construct a single likelihood function $L(\\textbf{h};\\theta_a)$:\n",
    "\n",
    "$$L(\\textbf{h};\\theta_a)=\\prod_{i=0}^{M} L_i(h_i;\\theta_a)$$\n",
    "\n",
    "where $\\textbf{h}=(h_0, ..., h_M)$\n",
    "\n",
    "In our example:\n",
    "\n",
    "$$L(\\textbf{h};\\theta_a)= L_0(h_0;\\theta_a)L_1(h_1;\\theta_a)$$\n",
    "\n",
    "where $\\textbf{h}=(h_0, h_1)$ The ML estimate is defined as the value that maximizes $L(\\textbf{h};\\theta_a)$:\n",
    "\n",
    "$$ \\hat{\\theta_a}=arg_{\\theta_a}max L(\\textbf{h};\\theta_a)= arg_{\\theta_a}max lnL(\\textbf{h};\\theta_a)$$\n",
    "\n",
    "Now *a* and $\\theta_a$ are uniquely related through $a=sin^2(\\theta_a)$ in the range $0≤$ $\\theta_a$ $≤π/2$, and $\\hat{a}=sin^2(\\hat{\\theta_a})$ is the ML estimate for *a*.\n",
    "\n",
    "For more details on MLE we refer to - <a href=\"https://arxiv.org/abs/1904.10246\">Amplitude estimation without phase estimation.\n",
    "Suzuki et al. 2020.</a> "
   ]
  },
  {
   "cell_type": "markdown",
   "id": "f4bd8d9b",
   "metadata": {},
   "source": [
    "In our case we have: $k_0=0$ and $k_1=1$\n",
    "\n",
    "$$L_0(h_0;\\theta_a)=[sin^2(\\theta_a)]^{h_0}[cos^2(\\theta_a)]^{8192-h_0}$$\n",
    "\n",
    "$$L_1(h_1;\\theta_a)=[sin^2(3\\theta_a)]^{h_1}[cos^2(3\\theta_a)]^{8192-h_1}$$\n",
    "\n",
    "\n",
    "Therefore:  $$L(\\textbf{h};\\theta_a)=L_0(h_0;\\theta_a)L_1(h_1;\\theta_a)=[sin^2(\\theta_a)]^{h_0}[cos^2(\\theta_a)]^{8192-h_0}[sin^2(3\\theta_a)]^{h_1}[cos^2(3\\theta_a)]^{8192-h_1}$$\n",
    "\n",
    "Taking the natural log on both sides we get:\n",
    "\n",
    "$$lnL(\\textbf{h};\\theta_a)=2h_{0}ln[sin(\\theta_a)]+2(8192-h_0)ln[cos(\\theta_a)]+2h_{1}ln[sin(3\\theta_a)]+2(8192-h_1)ln[cos(3\\theta_a)]$$\n",
    "\n",
    "\n",
    "Hence: \n",
    "\n",
    "$$ \\hat{\\theta_a}=arg_{\\theta_a}max (2h_{0}ln[sin(\\theta_a)]+2(8192-h_0)ln[cos(\\theta_a)]+2h_{1}ln[sin(3\\theta_a)]+2(8192-h_1)ln[cos(3\\theta_a)])$$\n",
    "\n"
   ]
  },
  {
   "cell_type": "markdown",
   "id": "7740c9fb",
   "metadata": {},
   "source": [
    "In order to find $\\hat{\\theta_a}$ we will use a brute force search, i.e. just discretize with a fine grid and see how it works. We will then plot the likelihood function and check if it is correct. We will use this function from Scipy https://docs.scipy.org/doc/scipy/reference/generated/scipy.optimize.brute.html#scipy.optimize.brute\n",
    "\n"
   ]
  },
  {
   "cell_type": "code",
   "execution_count": 20,
   "id": "e91789ae",
   "metadata": {},
   "outputs": [],
   "source": [
    "#Derive h_0 and h_1\n",
    "h_0=est_value1*8192\n",
    "h_1=est_value3*8192\n",
    "\n",
    "#Define the likelihood function f1 as a Python function \n",
    "#Note that we will derive the minimum of (-1)*f1 which is the maximum of f1\n",
    "def f(x):\n",
    "    value = 0\n",
    "    value += h_0*np.log((np.sin(x))**2)+(8192-h_0)*np.log(np.cos(x)**2)\n",
    "    value += h_1*np.log((np.sin(3*x))**2)+(8192-h_1)*np.log(np.cos(3*x)**2)\n",
    "    return -value\n",
    "\n",
    "epsilon=1e-10\n",
    "rranges = [(epsilon, (np.pi/2)-epsilon)]\n",
    "from scipy import optimize\n",
    "resbrute = optimize.brute(f, rranges, args=(), Ns=10000, full_output=True, finish=optimize.fmin)\n",
    "\n",
    "theta_a_est=resbrute[0][0]"
   ]
  },
  {
   "cell_type": "markdown",
   "id": "49caf536",
   "metadata": {},
   "source": [
    "Therefore we have obtained the following estimation for the expectation value of the payoff function: "
   ]
  },
  {
   "cell_type": "code",
   "execution_count": 21,
   "id": "c9212cb1",
   "metadata": {},
   "outputs": [],
   "source": [
    "#We then compute a_est\n",
    "theta_a_est=resbrute[0][0]\n",
    "a_est=(np.sin(theta_a_est))**2"
   ]
  },
  {
   "cell_type": "code",
   "execution_count": 22,
   "id": "f8a90bdf",
   "metadata": {},
   "outputs": [
    {
     "name": "stdout",
     "output_type": "stream",
     "text": [
      "Estimated value:    \t0.3226\n",
      "Exact value: \t0.2517\n"
     ]
    }
   ],
   "source": [
    "print('Estimated value:    \\t%.4f' % a_est)\n",
    "print('Exact value: \\t%.4f' % exact_value)"
   ]
  },
  {
   "cell_type": "code",
   "execution_count": 23,
   "id": "8cc8b600",
   "metadata": {},
   "outputs": [
    {
     "data": {
      "text/html": [
       "<h3>Version Information</h3><table><tr><th>Qiskit Software</th><th>Version</th></tr><tr><td><code>qiskit-terra</code></td><td>0.19.2</td></tr><tr><td><code>qiskit-aer</code></td><td>0.10.3</td></tr><tr><td><code>qiskit-ignis</code></td><td>0.7.0</td></tr><tr><td><code>qiskit-ibmq-provider</code></td><td>0.18.3</td></tr><tr><td><code>qiskit</code></td><td>0.34.2</td></tr><tr><td><code>qiskit-finance</code></td><td>0.3.1</td></tr><tr><td><code>qiskit-optimization</code></td><td>0.3.1</td></tr><tr><th>System information</th></tr><tr><td>Python version</td><td>3.8.12</td></tr><tr><td>Python compiler</td><td>Clang 10.0.0 </td></tr><tr><td>Python build</td><td>default, Oct 12 2021 06:23:56</td></tr><tr><td>OS</td><td>Darwin</td></tr><tr><td>CPUs</td><td>4</td></tr><tr><td>Memory (Gb)</td><td>16.0</td></tr><tr><td colspan='2'>Mon Mar 07 17:09:52 2022 CET</td></tr></table>"
      ],
      "text/plain": [
       "<IPython.core.display.HTML object>"
      ]
     },
     "metadata": {},
     "output_type": "display_data"
    },
    {
     "data": {
      "text/html": [
       "<div style='width: 100%; background-color:#d5d9e0;padding-left: 10px; padding-bottom: 10px; padding-right: 10px; padding-top: 5px'><h3>This code is a part of Qiskit</h3><p>&copy; Copyright IBM 2017, 2022.</p><p>This code is licensed under the Apache License, Version 2.0. You may<br>obtain a copy of this license in the LICENSE.txt file in the root directory<br> of this source tree or at http://www.apache.org/licenses/LICENSE-2.0.<p>Any modifications or derivative works of this code must retain this<br>copyright notice, and modified files need to carry a notice indicating<br>that they have been altered from the originals.</p></div>"
      ],
      "text/plain": [
       "<IPython.core.display.HTML object>"
      ]
     },
     "metadata": {},
     "output_type": "display_data"
    }
   ],
   "source": [
    "import qiskit.tools.jupyter\n",
    "%qiskit_version_table\n",
    "%qiskit_copyright"
   ]
  }
 ],
 "metadata": {
  "kernelspec": {
   "display_name": "Python 3 (ipykernel)",
   "language": "python",
   "name": "python3"
  },
  "language_info": {
   "codemirror_mode": {
    "name": "ipython",
    "version": 3
   },
   "file_extension": ".py",
   "mimetype": "text/x-python",
   "name": "python",
   "nbconvert_exporter": "python",
   "pygments_lexer": "ipython3",
   "version": "3.8.12"
  }
 },
 "nbformat": 4,
 "nbformat_minor": 5
}
